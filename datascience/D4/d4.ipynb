{
 "cells": [
  {
   "cell_type": "code",
   "execution_count": 1,
   "id": "d8c740be-c64d-4f4b-8b5b-a4c49dcdf7b3",
   "metadata": {},
   "outputs": [],
   "source": [
    "#File handling\n",
    "#Requests module example\n",
    "#OOPS and pillars\n",
    "#write:w\n",
    "#new file create/write\n",
    "\n",
    "\n",
    "f=open('day4.txt',mode='w')\n",
    "f.write('this is day 4 of ds training!')\n",
    "f.close()"
   ]
  },
  {
   "cell_type": "code",
   "execution_count": 6,
   "id": "a0362510-a31e-429d-b913-87bab4339847",
   "metadata": {},
   "outputs": [],
   "source": [
    "#pip install googlesearch-python\n",
    "\n"
   ]
  },
  {
   "cell_type": "code",
   "execution_count": 11,
   "id": "b6daa26c-c812-442f-8365-10e6c0078956",
   "metadata": {},
   "outputs": [
    {
     "name": "stdout",
     "output_type": "stream",
     "text": [
      "<generator object search at 0x000001913D007C10>\n"
     ]
    }
   ],
   "source": [
    "from googlesearch import search\n",
    "data=(search('data science',num_results=10))\n",
    "print(data)\n",
    "#generator object gives data one by one when it is in bulk"
   ]
  },
  {
   "cell_type": "code",
   "execution_count": 12,
   "id": "75b165a6-4a82-4b8e-815d-305f8f0fc9a7",
   "metadata": {},
   "outputs": [
    {
     "name": "stdout",
     "output_type": "stream",
     "text": [
      "Done\n"
     ]
    }
   ],
   "source": [
    "from googlesearch import search\n",
    "data=(search('data science',num_results=10))\n",
    "all_data=[]\n",
    "\n",
    "for i in data:\n",
    "    all_data.append(i+'\\n')\n",
    "\n",
    "file=open('ds.txt',mode='w')         #file exit error\n",
    "file.writelines(all_data)\n",
    "file.close()\n",
    "print('Done')\n"
   ]
  },
  {
   "cell_type": "code",
   "execution_count": 18,
   "id": "f5110da8-dd09-42e2-8537-b5fb00f6168b",
   "metadata": {},
   "outputs": [
    {
     "name": "stdout",
     "output_type": "stream",
     "text": [
      "Done\n"
     ]
    }
   ],
   "source": [
    "from googlesearch import search\n",
    "title='deep learning'\n",
    "data=search('title',num_results=10)\n",
    "all_data=[]\n",
    "\n",
    "for i in data:\n",
    "    all_data.append(i+'\\n')\n",
    "\n",
    "file=open(f'{title}.txt',mode='a')         # f format string\n",
    "file.writelines(all_data)\n",
    "file.close()\n",
    "print('Done')"
   ]
  },
  {
   "cell_type": "code",
   "execution_count": 17,
   "id": "12dd7ae5-fa7a-4305-9c12-bcaff2d5d206",
   "metadata": {},
   "outputs": [
    {
     "name": "stdout",
     "output_type": "stream",
     "text": [
      "Done\n"
     ]
    }
   ],
   "source": [
    "from googlesearch import search\n",
    "title= 'trending news'\n",
    "data=search('title',num_results=5)\n",
    "all_data=[]\n",
    "\n",
    "for i in data:\n",
    "    all_data.append(i+'\\n')\n",
    "\n",
    "#mode = x: it only creates new file\n",
    "#mode =w: it creates new file and also erase previous data\n",
    "\n",
    "file=open(f'{title}.txt',mode='w')\n",
    "file.writelines(all_data)\n",
    "file.write('-------------------------\\n')\n",
    "file.close()\n",
    "print('Done')"
   ]
  },
  {
   "cell_type": "code",
   "execution_count": 16,
   "id": "6125c4ab-00ab-478b-b89f-bb935ed42503",
   "metadata": {},
   "outputs": [
    {
     "ename": "TypeError",
     "evalue": "TextIOWrapper.write() takes exactly one argument (0 given)",
     "output_type": "error",
     "traceback": [
      "\u001b[1;31m---------------------------------------------------------------------------\u001b[0m",
      "\u001b[1;31mTypeError\u001b[0m                                 Traceback (most recent call last)",
      "Cell \u001b[1;32mIn[16], line 2\u001b[0m\n\u001b[0;32m      1\u001b[0m f\u001b[38;5;241m=\u001b[39m\u001b[38;5;28mopen\u001b[39m(\u001b[38;5;124m'\u001b[39m\u001b[38;5;124mchatgpt.txt\u001b[39m\u001b[38;5;124m'\u001b[39m,\u001b[38;5;124m'\u001b[39m\u001b[38;5;124mr\u001b[39m\u001b[38;5;124m'\u001b[39m)  \u001b[38;5;66;03m#in read mode we can't write and vice versa\u001b[39;00m\n\u001b[1;32m----> 2\u001b[0m \u001b[38;5;28mprint\u001b[39m(f\u001b[38;5;241m.\u001b[39mwrite())\n\u001b[0;32m      3\u001b[0m f\u001b[38;5;241m.\u001b[39mclose()\n",
      "\u001b[1;31mTypeError\u001b[0m: TextIOWrapper.write() takes exactly one argument (0 given)"
     ]
    }
   ],
   "source": [
    "f=open('chatgpt.txt','r')  #in read mode we can't write and vice versa\n",
    "print(f.write())\n",
    "f.close()\n",
    "\n",
    "\n"
   ]
  },
  {
   "cell_type": "code",
   "execution_count": 7,
   "id": "0ac0a4f5-199a-4498-9d3d-11ed5f332183",
   "metadata": {},
   "outputs": [
    {
     "ename": "UnsupportedOperation",
     "evalue": "not readable",
     "output_type": "error",
     "traceback": [
      "\u001b[1;31m---------------------------------------------------------------------------\u001b[0m",
      "\u001b[1;31mUnsupportedOperation\u001b[0m                      Traceback (most recent call last)",
      "Cell \u001b[1;32mIn[7], line 2\u001b[0m\n\u001b[0;32m      1\u001b[0m f\u001b[38;5;241m=\u001b[39m\u001b[38;5;28mopen\u001b[39m(\u001b[38;5;124m'\u001b[39m\u001b[38;5;124mchatgpt.txt\u001b[39m\u001b[38;5;124m'\u001b[39m,\u001b[38;5;124m'\u001b[39m\u001b[38;5;124mw\u001b[39m\u001b[38;5;124m'\u001b[39m)\n\u001b[1;32m----> 2\u001b[0m \u001b[38;5;28mprint\u001b[39m(f\u001b[38;5;241m.\u001b[39mread())\n\u001b[0;32m      3\u001b[0m f\u001b[38;5;241m.\u001b[39mclose()\n",
      "\u001b[1;31mUnsupportedOperation\u001b[0m: not readable"
     ]
    }
   ],
   "source": [
    "f=open('chatgpt.txt','w')\n",
    "print(f.read())\n",
    "f.close()"
   ]
  },
  {
   "cell_type": "code",
   "execution_count": 12,
   "id": "b07dd728-7a8f-4260-a6d0-36a0e0134cd8",
   "metadata": {},
   "outputs": [
    {
     "name": "stdout",
     "output_type": "stream",
     "text": [
      "\n",
      "this is a newline\n",
      "done\n"
     ]
    }
   ],
   "source": [
    "f=open('chatgpt.txt','r+')     # through + can do both read and write \n",
    "print(f.read())                          \n",
    "f.write('\\nthis is a newline')\n",
    "f.close()\n",
    "print('done')"
   ]
  },
  {
   "cell_type": "code",
   "execution_count": 11,
   "id": "b10d10c1-0fb5-4f17-9491-f6a0d012f20f",
   "metadata": {},
   "outputs": [
    {
     "name": "stdout",
     "output_type": "stream",
     "text": [
      "\n",
      "done\n"
     ]
    }
   ],
   "source": [
    "f=open('deep learning.txt','w+')     # through + can do both read and write  but the first written one haave priority\n",
    "print(f.read())                          \n",
    "f.write('\\nthis is a newline')\n",
    "f.close()\n",
    "print('done')"
   ]
  },
  {
   "cell_type": "code",
   "execution_count": 15,
   "id": "9400ab6f-5dd0-40c6-9288-f0f76e8710d6",
   "metadata": {},
   "outputs": [
    {
     "name": "stdout",
     "output_type": "stream",
     "text": [
      "done\n"
     ]
    }
   ],
   "source": [
    "f1=open('ds.txt','r')\n",
    "all_data=f1.read()\n",
    "f2=open('ds_copy.txt','w')\n",
    "f2.write(all_data)\n",
    "\n",
    "f1.close()\n",
    "f2.close()\n",
    "print('done')"
   ]
  },
  {
   "cell_type": "code",
   "execution_count": null,
   "id": "f847e206-4e2c-40c9-b882-6cf65ebd73d8",
   "metadata": {},
   "outputs": [],
   "source": []
  }
 ],
 "metadata": {
  "kernelspec": {
   "display_name": "Python 3 (ipykernel)",
   "language": "python",
   "name": "python3"
  },
  "language_info": {
   "codemirror_mode": {
    "name": "ipython",
    "version": 3
   },
   "file_extension": ".py",
   "mimetype": "text/x-python",
   "name": "python",
   "nbconvert_exporter": "python",
   "pygments_lexer": "ipython3",
   "version": "3.13.5"
  }
 },
 "nbformat": 4,
 "nbformat_minor": 5
}
