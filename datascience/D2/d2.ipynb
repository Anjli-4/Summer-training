{
 "cells": [
  {
   "cell_type": "code",
   "execution_count": 14,
   "id": "66ae0685-08d5-4adb-a1f8-ebe2d723829e",
   "metadata": {},
   "outputs": [],
   "source": [
    " #Functional programming\n",
    "def check_palindrome(word):\n",
    "     return word\n"
   ]
  },
  {
   "cell_type": "code",
   "execution_count": 15,
   "id": "da134f7b-ab44-4467-961c-3ac7ba58fe77",
   "metadata": {},
   "outputs": [
    {
     "data": {
      "text/plain": [
       "'Ajay'"
      ]
     },
     "execution_count": 15,
     "metadata": {},
     "output_type": "execute_result"
    }
   ],
   "source": [
    "check_palindrome('Ajay')"
   ]
  },
  {
   "cell_type": "code",
   "execution_count": 12,
   "id": "0ff8ff46-2536-4e1a-a6ed-cf722663bc53",
   "metadata": {},
   "outputs": [
    {
     "data": {
      "text/plain": [
       "'ykcul'"
      ]
     },
     "execution_count": 12,
     "metadata": {},
     "output_type": "execute_result"
    }
   ],
   "source": [
    "a='lucky'\n",
    "a[::-1]"
   ]
  },
  {
   "cell_type": "code",
   "execution_count": 13,
   "id": "2e52c861-7895-47b7-a964-f9fc6212b294",
   "metadata": {},
   "outputs": [
    {
     "name": "stdout",
     "output_type": "stream",
     "text": [
      "not a palindrome\n"
     ]
    }
   ],
   "source": [
    "if a==a[::-1]:\n",
    "    print('palindrome')\n",
    "else:\n",
    "   print('not a palindrome') "
   ]
  },
  {
   "cell_type": "code",
   "execution_count": 4,
   "id": "f66e57b1-f2c6-45a3-8a3c-5ec8e15de5a6",
   "metadata": {},
   "outputs": [],
   "source": [
    "def check_palindrome(word):\n",
    "  if word == word[::-1]:\n",
    "    return 'Palindrome'\n",
    "  else:\n",
    "    return 'Not a Plaindrome'"
   ]
  },
  {
   "cell_type": "code",
   "execution_count": 19,
   "id": "13454989-d98c-4f88-823b-c671209854ea",
   "metadata": {},
   "outputs": [],
   "source": [
    "def give_fibo(n):\n",
    "    fibo=[0,1]\n",
    "    for i in range(n-2):\n",
    "         last_num=fibo[-1]\n",
    "         second_num=fibo[-2]\n",
    "         next_num= last_num+second_num\n",
    "         fibo.append(next_num)\n",
    "    return fibo   "
   ]
  },
  {
   "cell_type": "code",
   "execution_count": 20,
   "id": "f915b0a0-0eeb-444d-b8d8-ef85a82a1161",
   "metadata": {},
   "outputs": [
    {
     "name": "stdout",
     "output_type": "stream",
     "text": [
      "[0, 1, 1, 2, 3, 5, 8, 13, 21, 34]\n"
     ]
    }
   ],
   "source": [
    "print(give_fibo(10))"
   ]
  },
  {
   "cell_type": "code",
   "execution_count": 24,
   "id": "7f3f3f49-d67a-4463-aed1-20ea97aa1fed",
   "metadata": {},
   "outputs": [],
   "source": [
    "def check_prime(number):\n",
    "    for i in range(2,number):\n",
    "        if number % i ==0:\n",
    "            return 'not a prime number' #after return print statement will not print, autobreak ho jaata hai\n",
    "            print('happy happy')\n",
    "            break\n",
    "    else:\n",
    "        return'prime number'\n",
    "            "
   ]
  },
  {
   "cell_type": "code",
   "execution_count": 28,
   "id": "f05f3f61-f66e-4fcb-9ef6-e226568f1deb",
   "metadata": {},
   "outputs": [
    {
     "data": {
      "text/plain": [
       "'prime number'"
      ]
     },
     "execution_count": 28,
     "metadata": {},
     "output_type": "execute_result"
    }
   ],
   "source": [
    "check_prime(2)"
   ]
  },
  {
   "cell_type": "code",
   "execution_count": 32,
   "id": "1ce7a414-e28f-4ecb-af22-a401eccc33e9",
   "metadata": {},
   "outputs": [
    {
     "name": "stdout",
     "output_type": "stream",
     "text": [
      "hellohellohellohellohello\n"
     ]
    }
   ],
   "source": [
    "n=5\n",
    "print('hello'*n)"
   ]
  },
  {
   "cell_type": "code",
   "execution_count": 37,
   "id": "c9d0de3f-1c78-4fcb-92cf-b4c2970624bf",
   "metadata": {},
   "outputs": [
    {
     "name": "stdout",
     "output_type": "stream",
     "text": [
      "* \n",
      "* * \n",
      "* * * \n",
      "* * * * \n",
      "* * * * * \n"
     ]
    }
   ],
   "source": [
    "n=5\n",
    "for i in range(1,n+1):\n",
    "    print(i*'* ')\n",
    "\n"
   ]
  },
  {
   "cell_type": "code",
   "execution_count": 42,
   "id": "63553133-628b-4449-af6a-4a490b62f1c5",
   "metadata": {},
   "outputs": [
    {
     "name": "stdout",
     "output_type": "stream",
     "text": [
      "    * \n",
      "   * * \n",
      "  * * * \n",
      " * * * * \n",
      "* * * * * \n"
     ]
    }
   ],
   "source": [
    "n=5\n",
    "for i in range(1,n+1):\n",
    "    print(''*(n-i)+i*'* ')\n"
   ]
  },
  {
   "cell_type": "code",
   "execution_count": 52,
   "id": "ca38ceb9-5928-43df-943f-46c93f0a7324",
   "metadata": {},
   "outputs": [],
   "source": [
    " def print_star(n=5,typ='left'):\n",
    "        if typ=='left':\n",
    "         space=''\n",
    "        elif typ=='right':\n",
    "          space=' ' \n",
    "        elif typ=='mid':\n",
    "         space='  '    \n",
    "        for i in range(1,n+1):\n",
    "                print(space*(n-i)+i*'* ')\n",
    "      "
   ]
  },
  {
   "cell_type": "code",
   "execution_count": 53,
   "id": "87c6408f-761d-404a-9d93-c45f990a5ea5",
   "metadata": {},
   "outputs": [
    {
     "name": "stdout",
     "output_type": "stream",
     "text": [
      "* \n",
      "* * \n",
      "* * * \n",
      "* * * * \n",
      "* * * * * \n",
      "* * * * * * \n"
     ]
    }
   ],
   "source": [
    "print_star(6,'left')"
   ]
  },
  {
   "cell_type": "code",
   "execution_count": 62,
   "id": "9c37236b-73b8-437d-8337-b72c7889b37c",
   "metadata": {},
   "outputs": [],
   "source": [
    " def print_star(n=5,typ='left',shape='*'): #default parmeters arguments\n",
    "        if typ=='left':\n",
    "         space=''\n",
    "        elif typ=='right':\n",
    "          space='  ' \n",
    "        elif typ=='mid':\n",
    "         space=' '    \n",
    "        for i in range(1,n+1):\n",
    "                print(space*(n-i)+i*f'{shape} ')"
   ]
  },
  {
   "cell_type": "code",
   "execution_count": 63,
   "id": "3f0c39b9-e49a-4f66-badf-b272f2424a9f",
   "metadata": {},
   "outputs": [
    {
     "name": "stdout",
     "output_type": "stream",
     "text": [
      "      & \n",
      "     & & \n",
      "    & & & \n",
      "   & & & & \n",
      "  & & & & & \n",
      " & & & & & & \n",
      "& & & & & & & \n"
     ]
    }
   ],
   "source": [
    "print_star(7,'mid','&')"
   ]
  },
  {
   "cell_type": "code",
   "execution_count": 64,
   "id": "cc86cff6-97e3-428d-bbd9-7e00dfbe03c5",
   "metadata": {},
   "outputs": [],
   "source": [
    "def sum_of_natural_number(n):\n",
    "    result =0\n",
    "    for i in range (1,n+1):\n",
    "        result +=i\n",
    "    return result"
   ]
  },
  {
   "cell_type": "code",
   "execution_count": 65,
   "id": "f259011e-92db-4cb5-a072-649b946f8e46",
   "metadata": {},
   "outputs": [
    {
     "data": {
      "text/plain": [
       "28"
      ]
     },
     "execution_count": 65,
     "metadata": {},
     "output_type": "execute_result"
    }
   ],
   "source": [
    "sum_of_natural_number(7)"
   ]
  },
  {
   "cell_type": "code",
   "execution_count": 7,
   "id": "e928fc4e-8004-4c94-8752-444fa6731243",
   "metadata": {},
   "outputs": [],
   "source": [
    "def factorial(n):\n",
    "     result =1\n",
    "     for i in range (1,n+1):\n",
    "          result +=i\n",
    "     return result\n"
   ]
  },
  {
   "cell_type": "code",
   "execution_count": 1,
   "id": "1c52efc3-adbb-46af-9686-dbd39de9d221",
   "metadata": {},
   "outputs": [],
   "source": [
    "def total_sales(*args):   #unpacking\n",
    "    result=0\n",
    "    for i in args:\n",
    "        result +=i\n",
    "    return result\n",
    "    "
   ]
  },
  {
   "cell_type": "code",
   "execution_count": 2,
   "id": "75754a9d-b902-4a0e-80f1-22dcb2a0a95a",
   "metadata": {},
   "outputs": [
    {
     "data": {
      "text/plain": [
       "149"
      ]
     },
     "execution_count": 2,
     "metadata": {},
     "output_type": "execute_result"
    }
   ],
   "source": [
    " total_sales(1,3,55,23,67)"
   ]
  },
  {
   "cell_type": "code",
   "execution_count": 6,
   "id": "4cfe3b97-9f7e-4a59-88db-11460e416414",
   "metadata": {},
   "outputs": [],
   "source": [
    "def total_sales(*args):   #unpacking\n",
    "    return args"
   ]
  },
  {
   "cell_type": "markdown",
   "id": "7f4908e4-57b1-4ca7-a900-c561fd8f9368",
   "metadata": {
    "jp-MarkdownHeadingCollapsed": true
   },
   "source": [
    "sales=[434,23,555,231,543,223,76,88.945,832]\n",
    "#min(sales)"
   ]
  },
  {
   "cell_type": "code",
   "execution_count": 34,
   "id": "a0ebb314-7a97-4bda-9336-d0ecd68589ce",
   "metadata": {},
   "outputs": [
    {
     "name": "stdout",
     "output_type": "stream",
     "text": [
      "23\n"
     ]
    }
   ],
   "source": [
    "sales=[434,23,555,231,543,223,76,88.945,832]\n",
    "min_element=sales[0]\n",
    "for i in sales[1:]:\n",
    "     if i<min_element:\n",
    "        min_element=i\n",
    "        print(min_element)\n",
    "        \n",
    "\n",
    "  \n",
    "   \n",
    "\n"
   ]
  },
  {
   "cell_type": "code",
   "execution_count": 44,
   "id": "3a52781b-d9f6-44f4-a396-0bbbc0fd64d1",
   "metadata": {},
   "outputs": [
    {
     "name": "stdout",
     "output_type": "stream",
     "text": [
      "832\n"
     ]
    }
   ],
   "source": [
    "sales=[434,23,555,231,543,223,76,88.945,832]\n",
    "max_element=sales[-1]\n",
    "for i in sales[::-1]:\n",
    "     if i>max_element:\n",
    "        max_element=i\n",
    "print(max_element)"
   ]
  },
  {
   "cell_type": "code",
   "execution_count": 50,
   "id": "0f29c039-9e93-4178-9979-360d7c90cf32",
   "metadata": {},
   "outputs": [],
   "source": [
    "data=[23,56,3434,67,243,78,49]\n",
    "def max(*data):\n",
    " max_ele=data[0]\n",
    " for i in data[1:]:\n",
    "     if i>max_ele:\n",
    "         max_ele=i\n",
    " return max_ele"
   ]
  },
  {
   "cell_type": "code",
   "execution_count": 51,
   "id": "14f0bb65-c0ef-4d20-8060-ddca6ce4e530",
   "metadata": {},
   "outputs": [
    {
     "data": {
      "text/plain": [
       "3434"
      ]
     },
     "execution_count": 51,
     "metadata": {},
     "output_type": "execute_result"
    }
   ],
   "source": [
    "max(23,56,3434,67,243,78,49)"
   ]
  },
  {
   "cell_type": "code",
   "execution_count": 66,
   "id": "76d98ddb-d155-4603-884e-5fa0d9ed25b4",
   "metadata": {},
   "outputs": [],
   "source": [
    "company1=['ola','uber','tata','indrive','adani','rapido']\n",
    "#['#OLA','#UBER','#RAPIDO']\n",
    "def add_hastag(*company):\n",
    "    result =[]\n",
    "    for i in company:\n",
    "        result.append('#'+i.upper())\n",
    "    return result"
   ]
  },
  {
   "cell_type": "code",
   "execution_count": 67,
   "id": "b0c4816b-29bb-4459-b6a5-66dc5416bdb8",
   "metadata": {},
   "outputs": [
    {
     "data": {
      "text/plain": [
       "['#OLA', '#UBER', '#TATA', '#INDRIVE', '#ADANI', '#RAPIDO']"
      ]
     },
     "execution_count": 67,
     "metadata": {},
     "output_type": "execute_result"
    }
   ],
   "source": [
    "add_hastag(*company1)"
   ]
  },
  {
   "cell_type": "code",
   "execution_count": 68,
   "id": "08c09fa4-a1b2-4595-8b54-359ab2225d77",
   "metadata": {},
   "outputs": [
    {
     "data": {
      "text/plain": [
       "['#OLA', '#UBER', '#TATA', '#INDRIVE', '#ADANI', '#RAPIDO']"
      ]
     },
     "execution_count": 68,
     "metadata": {},
     "output_type": "execute_result"
    }
   ],
   "source": [
    "add_hastag(*company)"
   ]
  },
  {
   "cell_type": "code",
   "execution_count": 88,
   "id": "a7cc2246-c3e5-4066-99d3-76f919644abf",
   "metadata": {},
   "outputs": [],
   "source": [
    "def store_records(name,age,roll_no,Class):\n",
    "    data={'Name':'name','Age':'age','Roll_No':'roll_no','Class':Class}\n",
    "    import pandas as pd\n",
    "    result=pd.DataFrame(data,index=[1])\n",
    "    return result"
   ]
  },
  {
   "cell_type": "code",
   "execution_count": 89,
   "id": "edb54e88-f01c-4417-a920-544f78cd3cb3",
   "metadata": {},
   "outputs": [
    {
     "data": {
      "text/html": [
       "<div>\n",
       "<style scoped>\n",
       "    .dataframe tbody tr th:only-of-type {\n",
       "        vertical-align: middle;\n",
       "    }\n",
       "\n",
       "    .dataframe tbody tr th {\n",
       "        vertical-align: top;\n",
       "    }\n",
       "\n",
       "    .dataframe thead th {\n",
       "        text-align: right;\n",
       "    }\n",
       "</style>\n",
       "<table border=\"1\" class=\"dataframe\">\n",
       "  <thead>\n",
       "    <tr style=\"text-align: right;\">\n",
       "      <th></th>\n",
       "      <th>Name</th>\n",
       "      <th>Age</th>\n",
       "      <th>Roll_No</th>\n",
       "      <th>Class</th>\n",
       "    </tr>\n",
       "  </thead>\n",
       "  <tbody>\n",
       "    <tr>\n",
       "      <th>1</th>\n",
       "      <td>name</td>\n",
       "      <td>age</td>\n",
       "      <td>roll_no</td>\n",
       "      <td>12</td>\n",
       "    </tr>\n",
       "  </tbody>\n",
       "</table>\n",
       "</div>"
      ],
      "text/plain": [
       "   Name  Age  Roll_No  Class\n",
       "1  name  age  roll_no     12"
      ]
     },
     "execution_count": 89,
     "metadata": {},
     "output_type": "execute_result"
    }
   ],
   "source": [
    "store_records('Karan',17,'A',12)"
   ]
  },
  {
   "cell_type": "code",
   "execution_count": 90,
   "id": "718bd15c-b171-439d-a96b-a4b12d680487",
   "metadata": {},
   "outputs": [
    {
     "data": {
      "text/html": [
       "<div>\n",
       "<style scoped>\n",
       "    .dataframe tbody tr th:only-of-type {\n",
       "        vertical-align: middle;\n",
       "    }\n",
       "\n",
       "    .dataframe tbody tr th {\n",
       "        vertical-align: top;\n",
       "    }\n",
       "\n",
       "    .dataframe thead th {\n",
       "        text-align: right;\n",
       "    }\n",
       "</style>\n",
       "<table border=\"1\" class=\"dataframe\">\n",
       "  <thead>\n",
       "    <tr style=\"text-align: right;\">\n",
       "      <th></th>\n",
       "      <th>Name</th>\n",
       "      <th>Age</th>\n",
       "      <th>Roll_No</th>\n",
       "      <th>Class</th>\n",
       "    </tr>\n",
       "  </thead>\n",
       "  <tbody>\n",
       "    <tr>\n",
       "      <th>1</th>\n",
       "      <td>name</td>\n",
       "      <td>age</td>\n",
       "      <td>roll_no</td>\n",
       "      <td>12</td>\n",
       "    </tr>\n",
       "  </tbody>\n",
       "</table>\n",
       "</div>"
      ],
      "text/plain": [
       "   Name  Age  Roll_No  Class\n",
       "1  name  age  roll_no     12"
      ]
     },
     "metadata": {},
     "output_type": "display_data"
    },
    {
     "data": {
      "text/html": [
       "<div>\n",
       "<style scoped>\n",
       "    .dataframe tbody tr th:only-of-type {\n",
       "        vertical-align: middle;\n",
       "    }\n",
       "\n",
       "    .dataframe tbody tr th {\n",
       "        vertical-align: top;\n",
       "    }\n",
       "\n",
       "    .dataframe thead th {\n",
       "        text-align: right;\n",
       "    }\n",
       "</style>\n",
       "<table border=\"1\" class=\"dataframe\">\n",
       "  <thead>\n",
       "    <tr style=\"text-align: right;\">\n",
       "      <th></th>\n",
       "      <th>Name</th>\n",
       "      <th>Age</th>\n",
       "      <th>Roll_No</th>\n",
       "      <th>Class</th>\n",
       "    </tr>\n",
       "  </thead>\n",
       "  <tbody>\n",
       "    <tr>\n",
       "      <th>1</th>\n",
       "      <td>name</td>\n",
       "      <td>age</td>\n",
       "      <td>roll_no</td>\n",
       "      <td>12</td>\n",
       "    </tr>\n",
       "  </tbody>\n",
       "</table>\n",
       "</div>"
      ],
      "text/plain": [
       "   Name  Age  Roll_No  Class\n",
       "1  name  age  roll_no     12"
      ]
     },
     "metadata": {},
     "output_type": "display_data"
    },
    {
     "data": {
      "text/html": [
       "<div>\n",
       "<style scoped>\n",
       "    .dataframe tbody tr th:only-of-type {\n",
       "        vertical-align: middle;\n",
       "    }\n",
       "\n",
       "    .dataframe tbody tr th {\n",
       "        vertical-align: top;\n",
       "    }\n",
       "\n",
       "    .dataframe thead th {\n",
       "        text-align: right;\n",
       "    }\n",
       "</style>\n",
       "<table border=\"1\" class=\"dataframe\">\n",
       "  <thead>\n",
       "    <tr style=\"text-align: right;\">\n",
       "      <th></th>\n",
       "      <th>Name</th>\n",
       "      <th>Age</th>\n",
       "      <th>Roll_No</th>\n",
       "      <th>Class</th>\n",
       "    </tr>\n",
       "  </thead>\n",
       "  <tbody>\n",
       "    <tr>\n",
       "      <th>1</th>\n",
       "      <td>name</td>\n",
       "      <td>age</td>\n",
       "      <td>roll_no</td>\n",
       "      <td>12</td>\n",
       "    </tr>\n",
       "  </tbody>\n",
       "</table>\n",
       "</div>"
      ],
      "text/plain": [
       "   Name  Age  Roll_No  Class\n",
       "1  name  age  roll_no     12"
      ]
     },
     "metadata": {},
     "output_type": "display_data"
    }
   ],
   "source": [
    "display(store_records('Karan',17,'A',12))\n",
    "display(store_records('Rohan',17,'A',12))\n",
    "display(store_records('Mohan',17,'A',12))"
   ]
  },
  {
   "cell_type": "code",
   "execution_count": 6,
   "id": "62681da8-2e34-4aa6-ac36-4f923f8af3e0",
   "metadata": {},
   "outputs": [
    {
     "name": "stdout",
     "output_type": "stream",
     "text": [
      "    Name  Age  Roll_No  Class\n",
      "1  Aryan   20       15     12\n"
     ]
    }
   ],
   "source": [
    "def students_records(**kwargs):\n",
    "    import pandas as pd\n",
    "    result=pd.DataFrame(kwargs,index=[1])\n",
    "    return result\n",
    "data=students_records(Name='Aryan',Age=20,Roll_No=15,Class=12)\n",
    "print(data)"
   ]
  },
  {
   "cell_type": "code",
   "execution_count": 7,
   "id": "4de5ddcd-4741-44e2-9d03-166d3603b26e",
   "metadata": {},
   "outputs": [],
   "source": [
    "#pip install gTTs"
   ]
  },
  {
   "cell_type": "code",
   "execution_count": 14,
   "id": "8f0c2ed3-3e48-4d39-9f2f-e2e8e1592981",
   "metadata": {},
   "outputs": [
    {
     "name": "stdout",
     "output_type": "stream",
     "text": [
      "Requirement already satisfied: pygame in c:\\users\\anjali\\anaconda3\\lib\\site-packages (2.6.1)\n",
      "Note: you may need to restart the kernel to use updated packages.\n"
     ]
    }
   ],
   "source": [
    "#pip install pygame"
   ]
  },
  {
   "cell_type": "code",
   "execution_count": 9,
   "id": "eb149f49-8442-4340-8f0c-100845dd4e7e",
   "metadata": {},
   "outputs": [],
   "source": [
    "def sound_box(paisa,platform = 'Paytm'):\n",
    "    from gtts import gTTS\n",
    "    text  = (f'''{platform} par {paisa} rs Prapt hue.''')\n",
    "    audio = gTTS(text)\n",
    "    audio.save('paytm.mp3')\n",
    "\n",
    "    import pygame as p\n",
    "    p.init()\n",
    "    p.mixer.init()\n",
    "    p.mixer.Sound('paytm.mp3').play()\n"
   ]
  },
  {
   "cell_type": "code",
   "execution_count": 10,
   "id": "1d667dbd-8a09-4de4-a7fd-f5f77332fb81",
   "metadata": {},
   "outputs": [],
   "source": [
    "sound_box(100)"
   ]
  },
  {
   "cell_type": "code",
   "execution_count": null,
   "id": "cf4f7077-a4d0-4d96-9a4d-6f6b950e88fb",
   "metadata": {},
   "outputs": [],
   "source": []
  }
 ],
 "metadata": {
  "kernelspec": {
   "display_name": "Python 3 (ipykernel)",
   "language": "python",
   "name": "python3"
  },
  "language_info": {
   "codemirror_mode": {
    "name": "ipython",
    "version": 3
   },
   "file_extension": ".py",
   "mimetype": "text/x-python",
   "name": "python",
   "nbconvert_exporter": "python",
   "pygments_lexer": "ipython3",
   "version": "3.13.5"
  }
 },
 "nbformat": 4,
 "nbformat_minor": 5
}
