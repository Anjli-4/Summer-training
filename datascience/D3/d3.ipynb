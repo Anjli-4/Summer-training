{
 "cells": [
  {
   "cell_type": "code",
   "execution_count": 5,
   "id": "54baf0da-d9eb-405d-8915-0df3aae259bb",
   "metadata": {},
   "outputs": [
    {
     "name": "stdout",
     "output_type": "stream",
     "text": [
      "Something went wrong!!\n",
      "invalid datatype comparison!!\n"
     ]
    }
   ],
   "source": [
    "#exception handling\n",
    "age='32'\n",
    "try:\n",
    " if age>=18:\n",
    "     print(\"you can vote\")\n",
    " else:\n",
    "     print(\"you can\\'t vote\") \n",
    "except TypeError:     #normal except can handle all error but naming the error will handle that particular error only\n",
    "    print(\"Something went wrong!!\")\n",
    "    print(\"invalid datatype comparison!!\")\n",
    "\n",
    "except:\n",
    "    print(\"invalid code \")\n"
   ]
  },
  {
   "cell_type": "code",
   "execution_count": 8,
   "id": "b433a615-9162-447e-988c-a1729914e166",
   "metadata": {},
   "outputs": [],
   "source": [
    "\n",
    "def student_records(**kwargs) :        #kwargs-dictionary  #** for dict & * for tuple\n",
    " import pandas as pd\n",
    " try:\n",
    "     data=pd.DataFrame(kwargs)\n",
    "     return data\n",
    " except:\n",
    "     data=pd.DataFrame(kwargs,index=[1])\n",
    "     return data"
   ]
  },
  {
   "cell_type": "code",
   "execution_count": 13,
   "id": "5ec821ba-76c6-475f-8331-060dc51aa947",
   "metadata": {},
   "outputs": [
    {
     "data": {
      "text/html": [
       "<div>\n",
       "<style scoped>\n",
       "    .dataframe tbody tr th:only-of-type {\n",
       "        vertical-align: middle;\n",
       "    }\n",
       "\n",
       "    .dataframe tbody tr th {\n",
       "        vertical-align: top;\n",
       "    }\n",
       "\n",
       "    .dataframe thead th {\n",
       "        text-align: right;\n",
       "    }\n",
       "</style>\n",
       "<table border=\"1\" class=\"dataframe\">\n",
       "  <thead>\n",
       "    <tr style=\"text-align: right;\">\n",
       "      <th></th>\n",
       "      <th>Name</th>\n",
       "      <th>Age</th>\n",
       "      <th>Address</th>\n",
       "      <th>Sec</th>\n",
       "    </tr>\n",
       "  </thead>\n",
       "  <tbody>\n",
       "    <tr>\n",
       "      <th>0</th>\n",
       "      <td>Komal</td>\n",
       "      <td>23</td>\n",
       "      <td>Noida</td>\n",
       "      <td>A</td>\n",
       "    </tr>\n",
       "    <tr>\n",
       "      <th>1</th>\n",
       "      <td>Mohan</td>\n",
       "      <td>45</td>\n",
       "      <td>Delhi</td>\n",
       "      <td>B</td>\n",
       "    </tr>\n",
       "    <tr>\n",
       "      <th>2</th>\n",
       "      <td>Ajay</td>\n",
       "      <td>56</td>\n",
       "      <td>Greater Noida</td>\n",
       "      <td>C</td>\n",
       "    </tr>\n",
       "  </tbody>\n",
       "</table>\n",
       "</div>"
      ],
      "text/plain": [
       "    Name  Age        Address Sec\n",
       "0  Komal   23          Noida   A\n",
       "1  Mohan   45          Delhi   B\n",
       "2   Ajay   56  Greater Noida   C"
      ]
     },
     "execution_count": 13,
     "metadata": {},
     "output_type": "execute_result"
    }
   ],
   "source": [
    "student_records(Name = ['Komal','Mohan','Ajay'],\n",
    "                 Age = [23,45,56],\n",
    "                 Address = ['Noida','Delhi','Greater Noida'],\n",
    "               Sec=list('ABC'))  #list will assign abc individually"
   ]
  },
  {
   "cell_type": "code",
   "execution_count": null,
   "id": "f366e93e-a2c2-44b2-bfb1-d9d236712504",
   "metadata": {},
   "outputs": [],
   "source": [
    "def show_time():\n",
    "    while True:\n",
    "        import time\n",
    "        print(time.asctime())\n",
    "        time.sleep(1)\n",
    "        display(clear=True)  #display funcn clrs the previous o/p\n",
    "   "
   ]
  },
  {
   "cell_type": "code",
   "execution_count": null,
   "id": "c5491d9d-d161-4542-b5bc-6f5fc482463a",
   "metadata": {},
   "outputs": [],
   "source": [
    " show_time()"
   ]
  },
  {
   "cell_type": "code",
   "execution_count": 5,
   "id": "0441afee-aab0-4af8-b385-8fe481887707",
   "metadata": {},
   "outputs": [
    {
     "name": "stdout",
     "output_type": "stream",
     "text": [
      "Fri Jul  4 11:50:51 2025\n",
      "timer has been stopped!!\n"
     ]
    }
   ],
   "source": [
    "def show_time():\n",
    " try:\n",
    "    import time\n",
    "    while True:\n",
    "        print(time.asctime())\n",
    "        time.sleep(1)\n",
    "        display(clear=True)\n",
    " except:\n",
    "    print('timer has been stopped!!')\n",
    "show_time()"
   ]
  },
  {
   "cell_type": "code",
   "execution_count": null,
   "id": "b41335d5-08a5-483c-8e04-5edf14e98f1b",
   "metadata": {},
   "outputs": [],
   "source": []
  },
  {
   "cell_type": "code",
   "execution_count": null,
   "id": "ec2e546e-23d5-4a28-84e1-fe01fc7ae852",
   "metadata": {},
   "outputs": [],
   "source": []
  },
  {
   "cell_type": "code",
   "execution_count": null,
   "id": "c22b5b08-65e2-46d2-8a6e-71aeb7cc9cd4",
   "metadata": {},
   "outputs": [],
   "source": []
  },
  {
   "cell_type": "code",
   "execution_count": null,
   "id": "d7c9e5ff-1692-47ff-8af7-3aa1df86c8fb",
   "metadata": {},
   "outputs": [],
   "source": []
  },
  {
   "cell_type": "code",
   "execution_count": null,
   "id": "03110ff7-3687-4315-a737-490ed191fe38",
   "metadata": {},
   "outputs": [],
   "source": []
  },
  {
   "cell_type": "code",
   "execution_count": null,
   "id": "77bdb87f-cac4-4883-b509-0ec4b6b37057",
   "metadata": {},
   "outputs": [],
   "source": []
  },
  {
   "cell_type": "code",
   "execution_count": null,
   "id": "a1bd84b0-e234-4dd1-9cb9-37dc4eae00de",
   "metadata": {},
   "outputs": [],
   "source": [
    "import anjali as an\n",
    "print('done')\n"
   ]
  },
  {
   "cell_type": "code",
   "execution_count": 8,
   "id": "bce0ae87-a03d-4d28-9df8-71e6f0656ee5",
   "metadata": {},
   "outputs": [
    {
     "name": "stdout",
     "output_type": "stream",
     "text": [
      "* \n",
      "* * \n",
      "* * * \n",
      "* * * * \n",
      "* * * * * \n",
      "* * * * * * \n",
      "* * * * * * * \n"
     ]
    }
   ],
   "source": [
    "an.print_star(n=7)"
   ]
  },
  {
   "cell_type": "code",
   "execution_count": 9,
   "id": "13ab6127-4b0c-4f3c-9953-a16142d0a2e1",
   "metadata": {},
   "outputs": [
    {
     "data": {
      "text/plain": [
       "24"
      ]
     },
     "execution_count": 9,
     "metadata": {},
     "output_type": "execute_result"
    }
   ],
   "source": [
    "an.factorial(4)"
   ]
  },
  {
   "cell_type": "code",
   "execution_count": 11,
   "id": "0b22a0c0-9045-4bdb-837a-d4f6d33a56c7",
   "metadata": {},
   "outputs": [
    {
     "data": {
      "text/plain": [
       "[0, 1, 1, 2, 3, 5, 8, 13, 21, 34, 55, 89, 144]"
      ]
     },
     "execution_count": 11,
     "metadata": {},
     "output_type": "execute_result"
    }
   ],
   "source": [
    "an.give_fibo(13)"
   ]
  },
  {
   "cell_type": "code",
   "execution_count": 12,
   "id": "80b162bd-784b-4f10-8a11-49e7f58f6668",
   "metadata": {},
   "outputs": [
    {
     "data": {
      "text/plain": [
       "'Prime Number'"
      ]
     },
     "execution_count": 12,
     "metadata": {},
     "output_type": "execute_result"
    }
   ],
   "source": [
    "an.check_prime(23)"
   ]
  },
  {
   "cell_type": "code",
   "execution_count": 13,
   "id": "0485da4a-01c1-448d-95fc-fc10bd401144",
   "metadata": {},
   "outputs": [
    {
     "name": "stdout",
     "output_type": "stream",
     "text": [
      "pygame 2.6.1 (SDL 2.28.4, Python 3.13.5)\n",
      "Hello from the pygame community. https://www.pygame.org/contribute.html\n"
     ]
    }
   ],
   "source": [
    "an.sound_box(56)"
   ]
  },
  {
   "cell_type": "code",
   "execution_count": null,
   "id": "7a380a22-682a-4919-8595-3841ffa50df6",
   "metadata": {},
   "outputs": [],
   "source": [
    "#! exclamatory mark before smthing for running it directly on terminal"
   ]
  },
  {
   "cell_type": "code",
   "execution_count": 1,
   "id": "544cbe6f-aa53-4467-894a-8c5d4903aabd",
   "metadata": {},
   "outputs": [
    {
     "name": "stdout",
     "output_type": "stream",
     "text": [
      "This is my module in python\n",
      "info: https://colab.research.google.com/\n",
      "done\n"
     ]
    }
   ],
   "source": [
    "from anjali import minn\n",
    "print('done')"
   ]
  },
  {
   "cell_type": "code",
   "execution_count": 3,
   "id": "cd071898-4859-42da-b86d-9a4a20ca91e2",
   "metadata": {},
   "outputs": [
    {
     "data": {
      "text/plain": [
       "2"
      ]
     },
     "execution_count": 3,
     "metadata": {},
     "output_type": "execute_result"
    }
   ],
   "source": [
    "minn(3,45,2,65,4,77)"
   ]
  },
  {
   "cell_type": "code",
   "execution_count": 4,
   "id": "c0f46bf8-ff28-4228-b325-f46949f738f4",
   "metadata": {},
   "outputs": [
    {
     "name": "stdout",
     "output_type": "stream",
     "text": [
      "done\n"
     ]
    }
   ],
   "source": [
    "from anjali import *\n",
    "print('done')"
   ]
  },
  {
   "cell_type": "code",
   "execution_count": 5,
   "id": "9a377c08-3f5c-4b31-9c79-37c409abd436",
   "metadata": {},
   "outputs": [
    {
     "data": {
      "text/html": [
       "<div>\n",
       "<style scoped>\n",
       "    .dataframe tbody tr th:only-of-type {\n",
       "        vertical-align: middle;\n",
       "    }\n",
       "\n",
       "    .dataframe tbody tr th {\n",
       "        vertical-align: top;\n",
       "    }\n",
       "\n",
       "    .dataframe thead th {\n",
       "        text-align: right;\n",
       "    }\n",
       "</style>\n",
       "<table border=\"1\" class=\"dataframe\">\n",
       "  <thead>\n",
       "    <tr style=\"text-align: right;\">\n",
       "      <th></th>\n",
       "      <th>name</th>\n",
       "      <th>roll_no</th>\n",
       "      <th>age</th>\n",
       "    </tr>\n",
       "  </thead>\n",
       "  <tbody>\n",
       "    <tr>\n",
       "      <th>1</th>\n",
       "      <td>apu</td>\n",
       "      <td>23</td>\n",
       "      <td>18</td>\n",
       "    </tr>\n",
       "  </tbody>\n",
       "</table>\n",
       "</div>"
      ],
      "text/plain": [
       "  name  roll_no  age\n",
       "1  apu       23   18"
      ]
     },
     "execution_count": 5,
     "metadata": {},
     "output_type": "execute_result"
    }
   ],
   "source": [
    "student_records(name='apu',roll_no=23,age=18)"
   ]
  },
  {
   "cell_type": "code",
   "execution_count": 8,
   "id": "4331bc61-bed8-44d1-982b-08dfd9c7fa53",
   "metadata": {},
   "outputs": [
    {
     "name": "stdout",
     "output_type": "stream",
     "text": [
      "done\n"
     ]
    }
   ],
   "source": [
    "import turtle\n",
    "print('done')"
   ]
  },
  {
   "cell_type": "code",
   "execution_count": 1,
   "id": "61f30e87-0833-4be7-a415-842bc3aed6d9",
   "metadata": {},
   "outputs": [],
   "source": [
    "import turtle\n",
    "for ii in range(4):\n",
    "    turtle.circle(100)\n",
    "    turtle.left(90)"
   ]
  },
  {
   "cell_type": "code",
   "execution_count": 21,
   "id": "d7e60b49-69e9-4ed0-905f-a77a16679cb7",
   "metadata": {},
   "outputs": [
    {
     "ename": "TypeError",
     "evalue": "'list' object is not callable",
     "output_type": "error",
     "traceback": [
      "\u001b[1;31m---------------------------------------------------------------------------\u001b[0m",
      "\u001b[1;31mTypeError\u001b[0m                                 Traceback (most recent call last)",
      "Cell \u001b[1;32mIn[21], line 9\u001b[0m\n\u001b[0;32m      7\u001b[0m \u001b[38;5;28;01mimport\u001b[39;00m\u001b[38;5;250m \u001b[39m\u001b[38;5;21;01mrandom\u001b[39;00m\n\u001b[0;32m      8\u001b[0m picked_color\u001b[38;5;241m=\u001b[39mrandom\u001b[38;5;241m.\u001b[39mchoice(col)\n\u001b[1;32m----> 9\u001b[0m turtle\u001b[38;5;241m.\u001b[39mcolor(picked_color)\n\u001b[0;32m     10\u001b[0m turtle\u001b[38;5;241m.\u001b[39mcircle(\u001b[38;5;241m100\u001b[39m)\n\u001b[0;32m     11\u001b[0m turtle\u001b[38;5;241m.\u001b[39mleft(\u001b[38;5;241m3\u001b[39m)\n",
      "\u001b[1;31mTypeError\u001b[0m: 'list' object is not callable"
     ]
    }
   ],
   "source": [
    "import turtle\n",
    "import random\n",
    "for i in range(120):\n",
    "        turtle.speed(0) \n",
    "        turtle.bgcolor('black')\n",
    "        col=['blue','yellow','orange','purple']\n",
    "   \n",
    "       \n",
    "        picked_color=random.choice(col)\n",
    "        turtle.color(picked_color)\n",
    "        turtle.circle(100)\n",
    "        turtle.left(3)\n"
   ]
  },
  {
   "cell_type": "code",
   "execution_count": 22,
   "id": "1e3477be-1200-4c8f-93e5-7ba8e50d59af",
   "metadata": {},
   "outputs": [
    {
     "ename": "TypeError",
     "evalue": "'list' object is not callable",
     "output_type": "error",
     "traceback": [
      "\u001b[1;31m---------------------------------------------------------------------------\u001b[0m",
      "\u001b[1;31mTypeError\u001b[0m                                 Traceback (most recent call last)",
      "Cell \u001b[1;32mIn[22], line 4\u001b[0m\n\u001b[0;32m      2\u001b[0m \u001b[38;5;28;01mfor\u001b[39;00m i \u001b[38;5;129;01min\u001b[39;00m \u001b[38;5;28mrange\u001b[39m(\u001b[38;5;241m3\u001b[39m):\n\u001b[0;32m      3\u001b[0m    turtle\u001b[38;5;241m.\u001b[39mbgcolor(\u001b[38;5;124m'\u001b[39m\u001b[38;5;124mblack\u001b[39m\u001b[38;5;124m'\u001b[39m)\n\u001b[1;32m----> 4\u001b[0m    turtle\u001b[38;5;241m.\u001b[39mcolor(\u001b[38;5;124m'\u001b[39m\u001b[38;5;124morange\u001b[39m\u001b[38;5;124m'\u001b[39m)\n\u001b[0;32m      5\u001b[0m    turtle\u001b[38;5;241m.\u001b[39mforward(\u001b[38;5;241m300\u001b[39m)\n\u001b[0;32m      6\u001b[0m    turtle\u001b[38;5;241m.\u001b[39mleft(\u001b[38;5;241m120\u001b[39m)\n",
      "\u001b[1;31mTypeError\u001b[0m: 'list' object is not callable"
     ]
    }
   ],
   "source": [
    "import turtle\n",
    "for i in range(3):\n",
    "   turtle.bgcolor('black')\n",
    "   turtle.color('orange')\n",
    "   turtle.forward(300)\n",
    "   turtle.left(120)"
   ]
  },
  {
   "cell_type": "code",
   "execution_count": 13,
   "id": "7587f93b-6183-407c-98cc-aab8526b8173",
   "metadata": {},
   "outputs": [],
   "source": [
    "#text file\n",
    "#.py,.html,.java,.css,.c,.c++, .json,.js\n",
    "#binary file\n",
    "#.pdf,.mp3,. mp4,.png, .exe, .zip,.tar, .xlsx, .ppt, .ipynb"
   ]
  },
  {
   "cell_type": "code",
   "execution_count": 14,
   "id": "c966ee40-c8c2-4010-9f1c-210414ed54f8",
   "metadata": {},
   "outputs": [],
   "source": [
    "#handling:- read,append,write,delete"
   ]
  },
  {
   "cell_type": "code",
   "execution_count": 15,
   "id": "c2a143a1-414b-4cd6-bb84-8e4bacd70309",
   "metadata": {},
   "outputs": [],
   "source": [
    "#context manager"
   ]
  },
  {
   "cell_type": "code",
   "execution_count": 19,
   "id": "f6b522b8-f00d-453e-9910-ddfa67e2a0d7",
   "metadata": {},
   "outputs": [
    {
     "name": "stdout",
     "output_type": "stream",
     "text": [
      "print('''This is my module in python\n",
      "info: https://colab.research.google.com/''')\n",
      "\n",
      "\n",
      "\n",
      "def c\n"
     ]
    }
   ],
   "source": [
    "file=open('anjali.py',mode='r')\n",
    "print(file.read(90))   # no data passed it reads whole content"
   ]
  },
  {
   "cell_type": "code",
   "execution_count": 24,
   "id": "e3d9100a-14ac-48a0-9fad-5f5be56b4c46",
   "metadata": {},
   "outputs": [
    {
     "name": "stdout",
     "output_type": "stream",
     "text": [
      "print('''This is my module in python\n",
      "\n"
     ]
    }
   ],
   "source": [
    "f=open('anjali.py',mode='r')\n",
    "print(f.readline())\n",
    "# no data passed it reads the 1st line only"
   ]
  },
  {
   "cell_type": "code",
   "execution_count": 26,
   "id": "7e0f6355-a01c-4a4b-a993-4416b2f306b8",
   "metadata": {},
   "outputs": [
    {
     "name": "stdout",
     "output_type": "stream",
     "text": [
      "print('''This is my module in python\n",
      "\n"
     ]
    }
   ],
   "source": [
    "f=open('anjali.py',mode='r')\n",
    "print(f.readline(100))\n",
    "file.close()"
   ]
  },
  {
   "cell_type": "code",
   "execution_count": 27,
   "id": "0f576b8a-1c51-4fd1-817a-1d1e87771aab",
   "metadata": {},
   "outputs": [
    {
     "name": "stdout",
     "output_type": "stream",
     "text": [
      "print('''This is my module in python\n",
      "\n",
      "info: https://colab.research.google.com/''')\n",
      "\n",
      "\n",
      "\n",
      "\n",
      "\n",
      "\n",
      "\n",
      "def check_palindrome(word:str):\n",
      "\n",
      "  if type(word) == str:\n",
      "\n",
      "    word = word.upper()\n",
      "\n",
      "    if word == word[::-1]:\n",
      "\n",
      "      return 'Palindrome'\n",
      "\n"
     ]
    }
   ],
   "source": [
    "f=open('anjali.py',mode='r')\n",
    "for i in range(10):\n",
    "    print(f.readline())"
   ]
  },
  {
   "cell_type": "code",
   "execution_count": 28,
   "id": "d15a05d0-b744-49cb-9ee1-f76fbb10076a",
   "metadata": {},
   "outputs": [
    {
     "name": "stdout",
     "output_type": "stream",
     "text": [
      "def check_palindrome(word:str):\n",
      "\n"
     ]
    }
   ],
   "source": [
    "f=open('anjali.py',mode='r')\n",
    "for i in range(10):\n",
    "    if i==5:  #no.6\n",
    "        print(f.readline())\n",
    "    else:\n",
    "        f.readline()"
   ]
  },
  {
   "cell_type": "code",
   "execution_count": 29,
   "id": "bbe06cca-a76b-447f-8ea1-b31574b2e592",
   "metadata": {},
   "outputs": [
    {
     "name": "stdout",
     "output_type": "stream",
     "text": [
      "done\n"
     ]
    }
   ],
   "source": [
    "f=open('anjali.py',mode='r')\n",
    "data= f.readlines()\n",
    "f.close() \n",
    "print('done')\n"
   ]
  },
  {
   "cell_type": "code",
   "execution_count": null,
   "id": "4cb2805a-c922-4be5-8e87-b1a70bde82f5",
   "metadata": {},
   "outputs": [],
   "source": []
  },
  {
   "cell_type": "code",
   "execution_count": null,
   "id": "f221efae-c41e-4b0e-a6b1-93b1f0b60426",
   "metadata": {},
   "outputs": [],
   "source": []
  }
 ],
 "metadata": {
  "kernelspec": {
   "display_name": "Python 3 (ipykernel)",
   "language": "python",
   "name": "python3"
  },
  "language_info": {
   "codemirror_mode": {
    "name": "ipython",
    "version": 3
   },
   "file_extension": ".py",
   "mimetype": "text/x-python",
   "name": "python",
   "nbconvert_exporter": "python",
   "pygments_lexer": "ipython3",
   "version": "3.13.5"
  }
 },
 "nbformat": 4,
 "nbformat_minor": 5
}
