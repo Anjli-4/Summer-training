{
 "cells": [
  {
   "cell_type": "code",
   "execution_count": null,
   "id": "05f644e7",
   "metadata": {},
   "outputs": [],
   "source": [
    "class A:\n",
    "\n",
    "    def i_am_a():\n",
    "        print('I am a Func of Class A')\n",
    "\n",
    "    def i_am_b():\n",
    "        print('I am b Func of Class B')\n",
    "\n",
    "\n",
    "class B:\n",
    "\n",
    "    def i_am_b():\n",
    "        print('I am b Func of Class B')"
   ]
  },
  {
   "cell_type": "code",
   "execution_count": null,
   "id": "745cb9de",
   "metadata": {},
   "outputs": [],
   "source": [
    "# simple Inheritance(single)\n",
    "# Multiple Inheritance\n",
    "# Multilevel Inheritance\n",
    "# Hybrid Inheritance"
   ]
  },
  {
   "cell_type": "code",
   "execution_count": 1,
   "id": "ea121975",
   "metadata": {},
   "outputs": [],
   "source": [
    "class BMW: # Parent Class, Main Class, Super Class, Base Class\n",
    "\n",
    "  def super_turbo_engine(self):\n",
    "    print('super_turbo_engine Fast Speed')\n",
    "\n",
    "class Audi(BMW): # Child Class, Sub Class\n",
    "\n",
    "  def auto_pilot(self):\n",
    "    print('Can run on Auto Pilot Mode!!')"
   ]
  },
  {
   "cell_type": "code",
   "execution_count": 2,
   "id": "b2582a1f",
   "metadata": {},
   "outputs": [],
   "source": [
    "audi_r8 = Audi()"
   ]
  },
  {
   "cell_type": "code",
   "execution_count": 3,
   "id": "664e73d6",
   "metadata": {},
   "outputs": [
    {
     "name": "stdout",
     "output_type": "stream",
     "text": [
      "Can run on Auto Pilot Mode!!\n"
     ]
    }
   ],
   "source": [
    "audi_r8.auto_pilot()"
   ]
  },
  {
   "cell_type": "code",
   "execution_count": 4,
   "id": "d465b61d",
   "metadata": {},
   "outputs": [
    {
     "name": "stdout",
     "output_type": "stream",
     "text": [
      "super_turbo_engine Fast Speed\n"
     ]
    }
   ],
   "source": [
    "audi_r8.super_turbo_engine()"
   ]
  },
  {
   "cell_type": "code",
   "execution_count": 7,
   "id": "3518e4f7",
   "metadata": {},
   "outputs": [],
   "source": [
    "#Multiple Inheritance\n",
    "class Daily_Object:\n",
    "  def phone_case(self):\n",
    "    print('Strong Build Phone Case')\n",
    "\n",
    "class JBL:\n",
    "  def sonic_speaker(self):\n",
    "    print('High Quality Sound Speaker')\n",
    "    \n",
    "class Samsung:\n",
    "  def screen_display(self):\n",
    "    print('4k HD Display')\n",
    "\n",
    "class Nvidia:\n",
    "  def motherboard(self):\n",
    "    print('Fast motherboard')\n",
    "\n",
    "class Sony:\n",
    "  def camera(self):\n",
    "    print('4k Camera')\n",
    "\n",
    "class Lava:\n",
    "  def charger(self):\n",
    "    print('SuperFast Charger From LAVA')\n",
    "\n",
    "\n",
    "class One_Plus:\n",
    "  def charger(self):\n",
    "    print('Original Superfast Charger!! From One_Plus')\n",
    "\n",
    "\n",
    "class Mobile(Daily_Object,JBL,Samsung,Nvidia,Sony,One_Plus,Lava):\n",
    "  def __init__(self):\n",
    "    print('Phone Object Created Successfully!!')\n",
    "\n",
    "  def charger(self):\n",
    "    print('Actual Charger From Mobile!!')"
   ]
  },
  {
   "cell_type": "code",
   "execution_count": 8,
   "id": "196ccfe4",
   "metadata": {},
   "outputs": [
    {
     "name": "stdout",
     "output_type": "stream",
     "text": [
      "Phone Object Created Successfully!!\n"
     ]
    }
   ],
   "source": [
    "nothing = Mobile()"
   ]
  },
  {
   "cell_type": "code",
   "execution_count": 9,
   "id": "cbd35177",
   "metadata": {},
   "outputs": [
    {
     "name": "stdout",
     "output_type": "stream",
     "text": [
      "4k Camera\n"
     ]
    }
   ],
   "source": [
    "nothing.camera()"
   ]
  },
  {
   "cell_type": "code",
   "execution_count": 10,
   "id": "d43468be",
   "metadata": {},
   "outputs": [
    {
     "name": "stdout",
     "output_type": "stream",
     "text": [
      "4k HD Display\n"
     ]
    }
   ],
   "source": [
    "nothing.screen_display()"
   ]
  },
  {
   "cell_type": "code",
   "execution_count": 11,
   "id": "ceb4741b",
   "metadata": {},
   "outputs": [
    {
     "name": "stdout",
     "output_type": "stream",
     "text": [
      "Actual Charger From Mobile!!\n"
     ]
    }
   ],
   "source": [
    "nothing.charger()\n"
   ]
  },
  {
   "cell_type": "code",
   "execution_count": 12,
   "id": "f1521eb2",
   "metadata": {},
   "outputs": [],
   "source": [
    "# MultilLevel()\n",
    "\n",
    "\n",
    "class GrandFather: #SuperClass\n",
    "  def land_property(self):\n",
    "    print('Land Property!!')\n",
    "\n",
    "class Father(GrandFather): #Subclass\n",
    "  def bank_balance(self):\n",
    "    print('Big Money Player, Huge Bank Balance')\n",
    "\n",
    "class Son(Father): #Subclass\n",
    "  def political_power(self):\n",
    "    print('Political Powers')\n",
    "\n",
    "class GrandSon(Son): #Subclass\n",
    "  def mind(self):\n",
    "    print('Mind For Self Study!!')\n",
    "\n",
    "class Friend(GrandSon): #Subclass\n",
    "  def __init__(self):\n",
    "    print('Nothing!!')\n",
    "\n"
   ]
  },
  {
   "cell_type": "code",
   "execution_count": null,
   "id": "bf208175",
   "metadata": {},
   "outputs": [],
   "source": [
    "aman = GrandSon()\n",
    "print('Done')"
   ]
  },
  {
   "cell_type": "code",
   "execution_count": null,
   "id": "693a2ff5",
   "metadata": {},
   "outputs": [],
   "source": [
    "aman.bank_balance()"
   ]
  },
  {
   "cell_type": "code",
   "execution_count": null,
   "id": "55386f9b",
   "metadata": {},
   "outputs": [],
   "source": [
    "aman.land_property()"
   ]
  },
  {
   "cell_type": "code",
   "execution_count": null,
   "id": "161710f7",
   "metadata": {},
   "outputs": [],
   "source": [
    "karan = Friend()"
   ]
  },
  {
   "cell_type": "code",
   "execution_count": null,
   "id": "5dd5eca4",
   "metadata": {},
   "outputs": [],
   "source": [
    "karan.political_power()"
   ]
  },
  {
   "cell_type": "code",
   "execution_count": 13,
   "id": "208c7f17",
   "metadata": {},
   "outputs": [],
   "source": [
    "# Hybrid Inheritance\n",
    "\n",
    "\n",
    "class Hybrid_class(Mobile,Friend,Audi): # Mobile(Multiple), Friend(Multilevel)\n",
    "  def __init__(self):\n",
    "    print('This is a Hybrid Class')\n",
    "\n",
    "  def info(self):\n",
    "    print('It can call any methods!!')\n"
   ]
  },
  {
   "cell_type": "code",
   "execution_count": 14,
   "id": "bf05198b",
   "metadata": {},
   "outputs": [
    {
     "name": "stdout",
     "output_type": "stream",
     "text": [
      "This is a Hybrid Class\n"
     ]
    }
   ],
   "source": [
    "ob = Hybrid_class()"
   ]
  },
  {
   "cell_type": "code",
   "execution_count": 15,
   "id": "f9f2851e",
   "metadata": {},
   "outputs": [
    {
     "name": "stdout",
     "output_type": "stream",
     "text": [
      "It can call any methods!!\n"
     ]
    }
   ],
   "source": [
    "ob.info()"
   ]
  },
  {
   "cell_type": "code",
   "execution_count": null,
   "id": "c5371096",
   "metadata": {},
   "outputs": [],
   "source": [
    "class UGC:  # Parent Class\n",
    "  def __init__(self):\n",
    "    print('Grant Permission')\n",
    "  def college_approved(self):\n",
    "    print('College Has been Approved')\n",
    "\n",
    "class DU(UGC):\n",
    "  def multiple_colleges(self):\n",
    "    print('List of Colleges!!')\n",
    "\n",
    "class IP(UGC):\n",
    "  def multiple_colleges(self):\n",
    "    print('List of Colleges!!')\n",
    "\n",
    "\n",
    "class DTU(UGC):\n",
    "  def multiple_colleges(self):\n",
    "    print('List of Colleges!!')\n",
    "\n",
    "class BHU(UGC):\n",
    "  def multiple_colleges(self):\n",
    "    print('List of Colleges!!')"
   ]
  },
  {
   "cell_type": "markdown",
   "id": "618ac2eb",
   "metadata": {},
   "source": [
    "Polymorphism\n"
   ]
  },
  {
   "cell_type": "code",
   "execution_count": null,
   "id": "2b175f5a",
   "metadata": {},
   "outputs": [],
   "source": [
    "a = 34\n",
    "b = 45\n",
    "\n",
    "a + b"
   ]
  },
  {
   "cell_type": "code",
   "execution_count": 16,
   "id": "91143efe",
   "metadata": {},
   "outputs": [
    {
     "data": {
      "text/plain": [
       "'3445'"
      ]
     },
     "execution_count": 16,
     "metadata": {},
     "output_type": "execute_result"
    }
   ],
   "source": [
    "a = '34'\n",
    "b = '45'\n",
    "\n",
    "a + b"
   ]
  },
  {
   "cell_type": "code",
   "execution_count": null,
   "id": "39ad8d6a",
   "metadata": {},
   "outputs": [],
   "source": [
    "# overriding\n",
    "# overloading"
   ]
  },
  {
   "cell_type": "code",
   "execution_count": 17,
   "id": "096158c5",
   "metadata": {},
   "outputs": [
    {
     "name": "stdout",
     "output_type": "stream",
     "text": [
      "F1 Car Speed:  Max speed 200 km/hr\n",
      "F1 Car Speed:  Max speed 250 km/hr\n",
      "F1 Car Speed:  Max speed 300 km/hr\n"
     ]
    }
   ],
   "source": [
    "class Car:\n",
    "  def speed(self):\n",
    "    return('Max speed 200 km/hr')\n",
    "\n",
    "  def auto_pilot(self):\n",
    "    return('It supports Auto Pilot Mode!!')\n",
    "\n",
    "  def info(self):\n",
    "    return('This is just a car object')\n",
    "\n",
    "\n",
    "class Bmw(Car):\n",
    "  def speed(self):\n",
    "    return('Max speed 250 km/hr')\n",
    "\n",
    "  def info(self):\n",
    "    return('A BMW car object')\n",
    "\n",
    "\n",
    "\n",
    "class Audi(Car):\n",
    "  def speed(self):\n",
    "    return('Max speed 300 km/hr')\n",
    "\n",
    "  def info(self):\n",
    "    return('Audi car🏎️')\n",
    "\n",
    "\n",
    "\n",
    "\n",
    "\n",
    "for i in [Car,Bmw,Audi]:\n",
    "  f1 = i()\n",
    "  print('F1 Car Speed: ',f1.speed())"
   ]
  },
  {
   "cell_type": "code",
   "execution_count": 18,
   "id": "67c46839",
   "metadata": {},
   "outputs": [
    {
     "name": "stdout",
     "output_type": "stream",
     "text": [
      "Max speed 200 km/hr\n"
     ]
    }
   ],
   "source": [
    "f1 = Car()\n",
    "print(f1.speed())"
   ]
  },
  {
   "cell_type": "code",
   "execution_count": 19,
   "id": "9004ca49",
   "metadata": {},
   "outputs": [
    {
     "name": "stdout",
     "output_type": "stream",
     "text": [
      "Max speed 250 km/hr\n"
     ]
    }
   ],
   "source": [
    "f1 = Bmw()\n",
    "print(f1.speed())"
   ]
  },
  {
   "cell_type": "code",
   "execution_count": 20,
   "id": "d49c8465",
   "metadata": {},
   "outputs": [
    {
     "name": "stdout",
     "output_type": "stream",
     "text": [
      "Max speed 300 km/hr\n"
     ]
    }
   ],
   "source": [
    "f1 = Audi()\n",
    "print(f1.speed())"
   ]
  },
  {
   "cell_type": "code",
   "execution_count": 21,
   "id": "3b07bce0",
   "metadata": {},
   "outputs": [
    {
     "name": "stdout",
     "output_type": "stream",
     "text": [
      "Hello Komal,how are you??\n",
      "Your Address is Delhi\n"
     ]
    }
   ],
   "source": [
    "class IITM:\n",
    "\n",
    "  def intro(self):\n",
    "    print('Hello Candidates!!')\n",
    "\n",
    "  def intro(self,name):\n",
    "    print(f'Hello {name},how are you??')\n",
    "\n",
    "  def intro(self,name,address):\n",
    "    print(f'Hello {name},how are you??')\n",
    "    print(f'Your Address is {address}')\n",
    "\n",
    "a = IITM()\n",
    "\n",
    "a.intro('Komal','Delhi')"
   ]
  },
  {
   "cell_type": "code",
   "execution_count": 22,
   "id": "eb59741d",
   "metadata": {},
   "outputs": [],
   "source": [
    "class IITM:\n",
    "\n",
    "  def intro(self,name = None,address = None):\n",
    "    if (name == None) and (address == None):\n",
    "      print('Hello Candidates!!')\n",
    "\n",
    "    elif name != None and (address == None):\n",
    "      print(f'Hello {name},how are you??')\n",
    "\n",
    "    elif (name != None) and  (address != None):\n",
    "      print(f'Hello {name},how are you??')\n",
    "      print(f'Your Address is {address}')\n",
    "\n",
    "    else:\n",
    "      print('Hello Buddy!!')"
   ]
  },
  {
   "cell_type": "code",
   "execution_count": 23,
   "id": "89038ff2",
   "metadata": {},
   "outputs": [
    {
     "name": "stdout",
     "output_type": "stream",
     "text": [
      "Hello Buddy!!\n"
     ]
    }
   ],
   "source": [
    "a = IITM()\n",
    "a.intro(address = 'Faridabad')"
   ]
  },
  {
   "cell_type": "code",
   "execution_count": null,
   "id": "b57ab8e9",
   "metadata": {},
   "outputs": [],
   "source": [
    "# Idea: BluePrint\n",
    "# Not a Physical Object\n",
    "# Abstraction:- project Management\n",
    "\n",
    "# class Website:\n",
    "#   def login()\n",
    "#   def logout()\n",
    "#   def signup()\n",
    "#   def updates()\n",
    "#   def maultiple_pages():"
   ]
  },
  {
   "cell_type": "code",
   "execution_count": 36,
   "id": "1a4d85ea",
   "metadata": {},
   "outputs": [
    {
     "name": "stdout",
     "output_type": "stream",
     "text": [
      "Done\n"
     ]
    }
   ],
   "source": [
    "from abc import ABC, abstractmethod\n",
    "\n",
    "class Website(ABC):\n",
    "\n",
    "  @abstractmethod\n",
    "  def login(self):\n",
    "    print('This is a Login method')\n",
    "\n",
    "  @abstractmethod\n",
    "  def logout(self):\n",
    "    print('A logout method')\n",
    "\n",
    "\n",
    "# /asus = Website()\n",
    "print('Done')"
   ]
  },
  {
   "cell_type": "code",
   "execution_count": 25,
   "id": "5372eb6e",
   "metadata": {},
   "outputs": [
    {
     "name": "stdout",
     "output_type": "stream",
     "text": [
      "2345656\n"
     ]
    }
   ],
   "source": [
    "print(2345656)"
   ]
  },
  {
   "cell_type": "code",
   "execution_count": 37,
   "id": "e0e8f85a",
   "metadata": {},
   "outputs": [],
   "source": [
    "class Nakul(Website):\n",
    "\n",
    "  def signup(self):\n",
    "    print('user can Signup!!')\n",
    "\n",
    "  def login(self):\n",
    "    print('This is a Login  Form')\n",
    "\n",
    "  def logout(self):\n",
    "    print('Use can logut')\n",
    "\n",
    "google = Nakul()\n"
   ]
  },
  {
   "cell_type": "code",
   "execution_count": 38,
   "id": "52a9235f",
   "metadata": {},
   "outputs": [
    {
     "name": "stdout",
     "output_type": "stream",
     "text": [
      "user can Signup!!\n"
     ]
    }
   ],
   "source": [
    "google.signup()"
   ]
  },
  {
   "cell_type": "code",
   "execution_count": 39,
   "id": "5b04a78a",
   "metadata": {},
   "outputs": [
    {
     "name": "stdout",
     "output_type": "stream",
     "text": [
      "This is a Login  Form\n"
     ]
    }
   ],
   "source": [
    "google.login()"
   ]
  },
  {
   "cell_type": "code",
   "execution_count": 40,
   "id": "d3693392",
   "metadata": {},
   "outputs": [
    {
     "name": "stdout",
     "output_type": "stream",
     "text": [
      "Use can logut\n"
     ]
    }
   ],
   "source": [
    "google.logout()"
   ]
  },
  {
   "cell_type": "code",
   "execution_count": 41,
   "id": "d5642720",
   "metadata": {},
   "outputs": [
    {
     "ename": "TypeError",
     "evalue": "Can't instantiate abstract class Website without an implementation for abstract methods 'login', 'logout'",
     "output_type": "error",
     "traceback": [
      "\u001b[1;31m---------------------------------------------------------------------------\u001b[0m",
      "\u001b[1;31mTypeError\u001b[0m                                 Traceback (most recent call last)",
      "Cell \u001b[1;32mIn[41], line 1\u001b[0m\n\u001b[1;32m----> 1\u001b[0m google\u001b[38;5;241m=\u001b[39mWebsite()\n",
      "\u001b[1;31mTypeError\u001b[0m: Can't instantiate abstract class Website without an implementation for abstract methods 'login', 'logout'"
     ]
    }
   ],
   "source": [
    "google=Website()"
   ]
  },
  {
   "cell_type": "code",
   "execution_count": null,
   "id": "175d0753",
   "metadata": {},
   "outputs": [],
   "source": []
  },
  {
   "cell_type": "code",
   "execution_count": null,
   "id": "bb536c8e",
   "metadata": {},
   "outputs": [],
   "source": []
  },
  {
   "cell_type": "code",
   "execution_count": null,
   "id": "e1c9b6bd",
   "metadata": {},
   "outputs": [],
   "source": []
  },
  {
   "cell_type": "code",
   "execution_count": null,
   "id": "f68066b2",
   "metadata": {},
   "outputs": [],
   "source": []
  },
  {
   "cell_type": "code",
   "execution_count": null,
   "id": "da05b923",
   "metadata": {},
   "outputs": [],
   "source": []
  },
  {
   "cell_type": "code",
   "execution_count": null,
   "id": "423a5b1b",
   "metadata": {},
   "outputs": [],
   "source": []
  },
  {
   "cell_type": "code",
   "execution_count": null,
   "id": "72e821b7",
   "metadata": {},
   "outputs": [],
   "source": []
  }
 ],
 "metadata": {
  "kernelspec": {
   "display_name": "base",
   "language": "python",
   "name": "python3"
  },
  "language_info": {
   "codemirror_mode": {
    "name": "ipython",
    "version": 3
   },
   "file_extension": ".py",
   "mimetype": "text/x-python",
   "name": "python",
   "nbconvert_exporter": "python",
   "pygments_lexer": "ipython3",
   "version": "3.13.5"
  }
 },
 "nbformat": 4,
 "nbformat_minor": 5
}
