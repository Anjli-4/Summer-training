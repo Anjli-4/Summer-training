{
  "cells": [
    {
      "cell_type": "code",
      "execution_count": null,
      "metadata": {
        "id": "O8R1g838va4T"
      },
      "outputs": [],
      "source": [
        "import qrcode\n",
        "img = qrcode.make('https://colab.research.google.com/drive/1zvMVzM8lyhe10gqBfO8GEKT_mfV_MJ7B?usp=sharing')\n",
        "img.save('myqr.png')\n"
      ]
    },
    {
      "cell_type": "code",
      "execution_count": null,
      "metadata": {
        "id": "P4JIW9d3vgwd"
      },
      "outputs": [],
      "source": [
        "# pip install qrcode"
      ]
    },
    {
      "cell_type": "code",
      "execution_count": null,
      "metadata": {
        "id": "2zOI_3LKvimc"
      },
      "outputs": [],
      "source": [
        "# Python Webscraping Project\n",
        "# Scrap Website\n",
        "# Store data in database\n"
      ]
    },
    {
      "cell_type": "code",
      "execution_count": null,
      "metadata": {
        "id": "LqQBteqYxmgv"
      },
      "outputs": [],
      "source": [
        "import requests as r\n",
        "url = '''https://en.wikipedia.org/wiki/List_of_Indians_by_net_worth'''\n",
        "\n",
        "response = r.get(url)\n",
        "response"
      ]
    },
    {
      "cell_type": "code",
      "execution_count": null,
      "metadata": {
        "id": "QbzJdS6C2kgY"
      },
      "outputs": [],
      "source": [
        "html_data = response.content\n",
        "print(html_data)"
      ]
    },
    {
      "cell_type": "code",
      "execution_count": null,
      "metadata": {
        "id": "pCa46G7R3QYG"
      },
      "outputs": [],
      "source": [
        "# pip install beautifulsoup4"
      ]
    },
    {
      "cell_type": "code",
      "execution_count": null,
      "metadata": {
        "id": "gk5lgMyW4BPa"
      },
      "outputs": [],
      "source": [
        "from bs4 import BeautifulSoup\n",
        "soup = BeautifulSoup(html_data)\n",
        "print('Done')"
      ]
    },
    {
      "cell_type": "code",
      "execution_count": null,
      "metadata": {
        "id": "bD_nzW__9oG8"
      },
      "outputs": [],
      "source": [
        "students = ['karan','Ravi','Ajay','Mohan']\n",
        "for index_no,value in enumerate(students):\n",
        "  if 1<= index_no <= 2:\n",
        "    print(index_no,value)"
      ]
    },
    {
      "cell_type": "code",
      "execution_count": null,
      "metadata": {
        "id": "iL4i6YfD9nnc"
      },
      "outputs": [],
      "source": []
    },
    {
      "cell_type": "code",
      "execution_count": null,
      "metadata": {
        "id": "eUDKeDuh4teS"
      },
      "outputs": [],
      "source": [
        "all_data = []\n",
        "\n",
        "for index_no, value in enumerate(soup.find_all('tr')):\n",
        "  if 0<= index_no <= 24:\n",
        "    # print(index_no, value.text)\n",
        "    temp_data = value.text.splitlines()\n",
        "    print(temp_data)\n",
        "    while '' in temp_data:\n",
        "      temp_data.remove('')\n",
        "\n",
        "    all_data.append(temp_data)\n",
        "\n",
        "print('Done')"
      ]
    },
    {
      "cell_type": "code",
      "execution_count": null,
      "metadata": {
        "id": "4lB5qWQhDGKN"
      },
      "outputs": [],
      "source": [
        "column = all_data[0]\n",
        "final_data = all_data[1:]"
      ]
    },
    {
      "cell_type": "code",
      "execution_count": null,
      "metadata": {
        "id": "iHl53dEaGeyw"
      },
      "outputs": [],
      "source": [
        "# column.remove('Change')"
      ]
    },
    {
      "cell_type": "code",
      "execution_count": null,
      "metadata": {
        "id": "774iJgowGrA2"
      },
      "outputs": [],
      "source": [
        "column"
      ]
    },
    {
      "cell_type": "code",
      "execution_count": null,
      "metadata": {
        "id": "SauEY5sZ5n0T"
      },
      "outputs": [],
      "source": [
        "import pandas as pd\n",
        "final_columns = ['Rank','Name','Net worth (USD)','Company Name','Sources of wealth','None','None']\n",
        "rich_list = pd.DataFrame(final_data,columns = final_columns)\n",
        "\n",
        "rich_list\n",
        "\n",
        "final_df = rich_list.drop('None',axis = 1)\n",
        "\n",
        "final_df.to_excel('Rich_list.xlsx')\n",
        "print('Done')"
      ]
    },
    {
      "cell_type": "code",
      "execution_count": null,
      "metadata": {
        "id": "94O1OwcTCJ_Y"
      },
      "outputs": [],
      "source": [
        "import pymysql as py\n",
        "\n",
        "conn = py.connect(host = 'localhost',\n",
        "                  user = 'root',\n",
        "                  password='1234',\n",
        "                  autocommit = True)\n",
        "cur = conn.cursor()\n",
        "print('Done')"
      ]
    },
    {
      "cell_type": "code",
      "execution_count": null,
      "metadata": {
        "id": "tUBMzhnSOpBd"
      },
      "outputs": [],
      "source": [
        "query = 'create database wiki;'\n",
        "\n",
        "cur.execute(query)\n",
        "print('Done')"
      ]
    },
    {
      "cell_type": "code",
      "execution_count": null,
      "metadata": {
        "id": "GjXGK41EP1qU"
      },
      "outputs": [],
      "source": [
        "table_column = ['rich_' + i.replace(' ','_').replace('(USD)','US_Dollar')  for i in final_df.columns]\n",
        "table_column"
      ]
    },
    {
      "cell_type": "code",
      "execution_count": null,
      "metadata": {
        "id": "GsxWqeYZP2Ll"
      },
      "outputs": [],
      "source": [
        "' varchar(255), '.join(table_column) + ' varchar(255)'"
      ]
    },
    {
      "cell_type": "code",
      "execution_count": null,
      "metadata": {
        "id": "nd-4ZnugR0C0"
      },
      "outputs": [],
      "source": [
        "query_part = ' varchar(255), '.join(table_column) + ' varchar(255)'\n",
        "\n",
        "query = '''Create table wiki.rich_list (''' + query_part + ');'\n",
        "\n",
        "print(query)"
      ]
    },
    {
      "cell_type": "code",
      "execution_count": null,
      "metadata": {
        "id": "ZCwK1m4pjcju"
      },
      "outputs": [],
      "source": [
        "cur.execute(query)\n",
        "print('Done')"
      ]
    },
    {
      "cell_type": "code",
      "execution_count": null,
      "metadata": {
        "id": "6cwfLkwjjfkD"
      },
      "outputs": [],
      "source": [
        "# Insert data\n",
        "\n",
        "for i in final_df.itertuples():\n",
        "    value = tuple(i)[1:]\n",
        "\n",
        "    query = f'''insert into wiki.rich_list values {value};'''\n",
        "    # print(query)\n",
        "    cur.execute(query)\n",
        "\n",
        "print('Done')"
      ]
    },
    {
      "cell_type": "code",
      "execution_count": null,
      "metadata": {
        "id": "wNjYZG0KjsO0"
      },
      "outputs": [],
      "source": []
    }
  ],
  "metadata": {
    "colab": {
      "private_outputs": true,
      "provenance": []
    },
    "kernelspec": {
      "display_name": "Python 3",
      "name": "python3"
    },
    "language_info": {
      "name": "python"
    }
  },
  "nbformat": 4,
  "nbformat_minor": 0
}
