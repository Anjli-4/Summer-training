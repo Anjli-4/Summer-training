{
 "cells": [
  {
   "cell_type": "code",
   "execution_count": 1,
   "id": "741815e9-9450-470e-9894-794eb3c5c791",
   "metadata": {},
   "outputs": [],
   "source": [
    "#oops\n",
    "class IITM:      #class means datatype\n",
    "\n",
    "    def intro():\n",
    "        print(\"hii!!,how are you?\")\n",
    "\n",
    "    def say_heloo():\n",
    "        print(\"hello!!\")\n",
    "\n",
    "    def bye():\n",
    "        print(\"byeee!!\")"
   ]
  },
  {
   "cell_type": "code",
   "execution_count": 2,
   "id": "cb6084e9-e41c-4dce-9931-5a76102a44a6",
   "metadata": {},
   "outputs": [
    {
     "name": "stdout",
     "output_type": "stream",
     "text": [
      "<class 'int'>\n"
     ]
    }
   ],
   "source": [
    "a=int(45)\n",
    "print(type(a))"
   ]
  },
  {
   "cell_type": "code",
   "execution_count": 3,
   "id": "fdc2c9fe-0616-4e32-90cd-9c7931186e8d",
   "metadata": {},
   "outputs": [
    {
     "name": "stdout",
     "output_type": "stream",
     "text": [
      "<class '__main__.IITM'>\n"
     ]
    }
   ],
   "source": [
    "raman=IITM()          #Raman is insatance of class iitm \n",
    "print(type(raman))   #main means it is made in the current directory"
   ]
  },
  {
   "cell_type": "code",
   "execution_count": null,
   "id": "07d1337f-cb9b-4392-9198-4db8964e1f5c",
   "metadata": {},
   "outputs": [],
   "source": [
    "class Remote:\n",
    "\n",
    "  def __init__(self):   #class constructor , magic method, dunder method\n",
    "      #initialization   it will autocall\n",
    "     print('object has been created with class remote')\n",
    "     print('now we can see it')\n",
    "\n",
    "  def volume_up(self):\n",
    "     print('volume up by 1 unit')\n",
    "    \n",
    "\n",
    "  def volume_down(self):\n",
    "     print('volume down by 1 unit')\n",
    "\n",
    "  def power_on(self):\n",
    "     print('tv is on')\n",
    "\n",
    "  def power_off(self):\n",
    "     print('tv is off')\n",
    "\n",
    "  def auto_suggest_channel(self):\n",
    "     import time\n",
    "     print('searching trending channels')\n",
    "     time.sleep(3)\n",
    "     print('youtube iitm!!') \n",
    "\n",
    "      \n",
    "  def __del__(self):  #class destructor   \n",
    "     print('objecthas been deleted!!') "
   ]
  },
  {
   "cell_type": "code",
   "execution_count": null,
   "id": "8091cbd5-9906-4b8d-8a0a-53c852242d77",
   "metadata": {},
   "outputs": [],
   "source": [
    "mi=Remote()\n",
    "print('done')"
   ]
  },
  {
   "cell_type": "code",
   "execution_count": null,
   "id": "d5d41534-ccaf-4899-bf0e-28895bd700ab",
   "metadata": {},
   "outputs": [],
   "source": [
    "mi.power_on()"
   ]
  },
  {
   "cell_type": "code",
   "execution_count": null,
   "id": "de326196-b7f2-4962-ae00-ffec82f685a1",
   "metadata": {},
   "outputs": [],
   "source": [
    "mi.auto_suggest_channel()"
   ]
  },
  {
   "cell_type": "code",
   "execution_count": null,
   "id": "6bdc849a-9bfc-4fdc-8440-ddb49cb752a5",
   "metadata": {},
   "outputs": [],
   "source": [
    "del(mi)"
   ]
  },
  {
   "cell_type": "code",
   "execution_count": null,
   "id": "f014cba7-66e5-4bdf-8427-55829d309923",
   "metadata": {},
   "outputs": [],
   "source": [
    "mi"
   ]
  },
  {
   "cell_type": "code",
   "execution_count": null,
   "id": "a8130297-9118-4fb3-9686-99ec08622575",
   "metadata": {},
   "outputs": [],
   "source": [
    "class Car:\n",
    "    \n",
    "    def __init__(self):\n",
    "        color='black'\n",
    "        wheel= 4\n",
    "        spare_wheel=1\n",
    "        airbag_support= True\n",
    "        fuel_type='petrol'\n",
    "        car_type='sedan'\n",
    "        gear_type='automatic' \n",
    "\n",
    "   #-------------------------------\n",
    "   #features\n",
    "\n",
    "    def auto_park(self):\n",
    "        import IPython\n",
    "        url=\"https://media.tenor.com/AC-Qkr46e60AAAAM/tv-land-king-of-queens.gif\"\n",
    "        display(IPython.display.Image(url))\n",
    "     \n",
    "    def engine_on(self):\n",
    "        import pygame\n",
    "        pygame.init()\n",
    "        path=r'''C:\\Users\\Anjali\\Downloads\\car-engine-372477.mp3'''\n",
    "        music=pygame.mixer.Sound(path)\n",
    "        music.play()\n",
    "\n",
    "\n",
    "    def speed_up(self):\n",
    "        c=10\n",
    "        while 10<200:\n",
    "            print(f'speed is increased by {c} in km/hr')\n",
    "            c+=10\n",
    "            display(clear=True)\n",
    "            import time\n",
    "            time.sleep(0.5)\n",
    "\n",
    "            \n",
    "            if c>=100:\n",
    "                print('you are crossing speed limit')\n",
    "                break\n",
    "    def drift_brake(self,drift=False):\n",
    "        if drift==True:\n",
    "            import pygame\n",
    "            pygame.init()\n",
    "            path=r'''C:\\Users\\Anjali\\Downloads\\-110063.mp3'''\n",
    "            music=pygame.mixer.Sound(path)\n",
    "            music.play()\n",
    "            import IPython\n",
    "            url='''https://i.pinimg.com/originals/ee/52/fe/ee52fe67ecd5d39ded68e91b9ebec0dc.gif'''\n",
    "            display(IPython.display.Image(url))  \n",
    "        else:\n",
    "         print('brake applied')"
   ]
  },
  {
   "cell_type": "code",
   "execution_count": null,
   "id": "d62df323-2b19-4991-9b81-6ed07178752f",
   "metadata": {},
   "outputs": [],
   "source": [
    "bmw=Car()"
   ]
  },
  {
   "cell_type": "code",
   "execution_count": null,
   "id": "d9590faa-2b1f-46f6-aa5d-2123e532f6a3",
   "metadata": {},
   "outputs": [],
   "source": [
    "bmw.auto_park()"
   ]
  },
  {
   "cell_type": "code",
   "execution_count": null,
   "id": "e74fc3a8-2504-46f1-99a1-4d9ea19e571c",
   "metadata": {},
   "outputs": [],
   "source": [
    "#!pip install pygame"
   ]
  },
  {
   "cell_type": "code",
   "execution_count": null,
   "id": "931414fe-6382-46c3-ba2f-93998287811f",
   "metadata": {},
   "outputs": [],
   "source": [
    "bmw.engine_on()"
   ]
  },
  {
   "cell_type": "code",
   "execution_count": null,
   "id": "c40a35f0-83ab-4454-85e1-84939363daa0",
   "metadata": {},
   "outputs": [],
   "source": [
    "bmw.speed_up()"
   ]
  },
  {
   "cell_type": "code",
   "execution_count": null,
   "id": "36fdf1c0-e936-41f3-982c-34d8c6d1d285",
   "metadata": {},
   "outputs": [],
   "source": [
    "bmw.drift_brake(True)"
   ]
  },
  {
   "cell_type": "code",
   "execution_count": null,
   "id": "d9f33521-9018-4119-8efa-05cd7890d194",
   "metadata": {},
   "outputs": [],
   "source": []
  }
 ],
 "metadata": {
  "kernelspec": {
   "display_name": "base",
   "language": "python",
   "name": "python3"
  },
  "language_info": {
   "codemirror_mode": {
    "name": "ipython",
    "version": 3
   },
   "file_extension": ".py",
   "mimetype": "text/x-python",
   "name": "python",
   "nbconvert_exporter": "python",
   "pygments_lexer": "ipython3",
   "version": "3.13.5"
  }
 },
 "nbformat": 4,
 "nbformat_minor": 5
}
