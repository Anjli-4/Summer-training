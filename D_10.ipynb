{
 "cells": [
  {
   "cell_type": "code",
   "execution_count": null,
   "id": "e5a5a3bd",
   "metadata": {},
   "outputs": [],
   "source": []
  },
  {
   "cell_type": "code",
   "execution_count": null,
   "id": "6e9affa5",
   "metadata": {},
   "outputs": [],
   "source": [
    "import numpy as np\n",
    "import matplotlib.pyplot as plt\n",
    "\n"
   ]
  },
  {
   "cell_type": "code",
   "execution_count": null,
   "id": "e2a3c1a6",
   "metadata": {},
   "outputs": [],
   "source": [
    "arr=plt.imread(r\"C:\\Users\\Anjali\\OneDrive\\Pictures\\samm.jpg\")\n",
    "\n"
   ]
  },
  {
   "cell_type": "code",
   "execution_count": null,
   "id": "dda6aa1c",
   "metadata": {},
   "outputs": [],
   "source": [
    "sam_arr=arr.copy()\n",
    "plt.imshow(sam_arr)\n",
    "sam_arr.shape         #splits img"
   ]
  },
  {
   "cell_type": "code",
   "execution_count": null,
   "id": "4455df42",
   "metadata": {},
   "outputs": [],
   "source": [
    "x=np.random.randint(0,255,(50,50,3))\n",
    "plt.imshow(x)"
   ]
  },
  {
   "cell_type": "code",
   "execution_count": null,
   "id": "8489f24e",
   "metadata": {},
   "outputs": [],
   "source": [
    "while True:\n",
    "    import numpy as np\n",
    "    import matplotlib.pyplot as plt \n",
    "    import time\n",
    "    x=np.random.randint(0,255,(10,10,3))\n",
    "    plt.imshow(x)\n",
    "    plt.show()\n",
    "    time.sleep(0.5)\n",
    "    display(clear=True)"
   ]
  },
  {
   "cell_type": "code",
   "execution_count": null,
   "id": "8bcaaad2",
   "metadata": {},
   "outputs": [],
   "source": [
    "import numpy as np\n",
    "import matplotlib.pyplot as plt \n",
    "a=np.random.randint(0,255,(4,4,3))\n",
    "a"
   ]
  },
  {
   "cell_type": "code",
   "execution_count": null,
   "id": "08323171",
   "metadata": {},
   "outputs": [],
   "source": [
    "final_arr=np.split(a,2)\n",
    "len(final_arr)"
   ]
  },
  {
   "cell_type": "code",
   "execution_count": null,
   "id": "0eec3be4",
   "metadata": {},
   "outputs": [],
   "source": [
    "plt.imshow(a)"
   ]
  },
  {
   "cell_type": "code",
   "execution_count": null,
   "id": "a7def608",
   "metadata": {},
   "outputs": [],
   "source": [
    "plt.imshow(final_arr[1])\n"
   ]
  },
  {
   "cell_type": "code",
   "execution_count": null,
   "id": "a54e2e36",
   "metadata": {},
   "outputs": [],
   "source": [
    "plt.imshow(a)"
   ]
  },
  {
   "cell_type": "code",
   "execution_count": null,
   "id": "8b24fc7c",
   "metadata": {},
   "outputs": [],
   "source": [
    "arr_1=np.split(a,2,axis=1)    # o horizontal and upper part   and 1 vertital and lower part\n"
   ]
  },
  {
   "cell_type": "code",
   "execution_count": null,
   "id": "cb194ef4",
   "metadata": {},
   "outputs": [],
   "source": [
    "len(arr_1)\n",
    "a\n",
    "\n"
   ]
  },
  {
   "cell_type": "code",
   "execution_count": null,
   "id": "b5fb380b",
   "metadata": {},
   "outputs": [],
   "source": [
    "arr_1"
   ]
  },
  {
   "cell_type": "code",
   "execution_count": null,
   "id": "105b7699",
   "metadata": {},
   "outputs": [],
   "source": [
    "a.shape"
   ]
  },
  {
   "cell_type": "code",
   "execution_count": null,
   "id": "9d48cf12",
   "metadata": {},
   "outputs": [],
   "source": [
    "np.split(a,3,axis=2)"
   ]
  },
  {
   "cell_type": "code",
   "execution_count": null,
   "id": "6ba2ed4a",
   "metadata": {},
   "outputs": [],
   "source": [
    "a"
   ]
  },
  {
   "cell_type": "code",
   "execution_count": null,
   "id": "c357022d",
   "metadata": {},
   "outputs": [],
   "source": [
    "arr_2=np.split(a,3,axis=2)"
   ]
  },
  {
   "cell_type": "code",
   "execution_count": null,
   "id": "88600300",
   "metadata": {},
   "outputs": [],
   "source": [
    "plt.imshow(a)       #a baki  arr_2 ke 0 1 2 se milkar ban rha hai"
   ]
  },
  {
   "cell_type": "code",
   "execution_count": null,
   "id": "c6c39290",
   "metadata": {},
   "outputs": [],
   "source": [
    "len(arr_2)\n",
    "plt.imshow(arr_2[0])\n",
    "\n",
    "\n",
    "\n",
    "\n",
    "\n"
   ]
  },
  {
   "cell_type": "code",
   "execution_count": null,
   "id": "8fce6595",
   "metadata": {},
   "outputs": [],
   "source": [
    "plt.imshow(arr_2[1])"
   ]
  },
  {
   "cell_type": "code",
   "execution_count": null,
   "id": "383ac14f",
   "metadata": {},
   "outputs": [],
   "source": [
    "plt.imshow(arr_2[2])"
   ]
  },
  {
   "cell_type": "code",
   "execution_count": null,
   "id": "b0d1be9b",
   "metadata": {},
   "outputs": [],
   "source": [
    "len(arr_2)"
   ]
  },
  {
   "cell_type": "code",
   "execution_count": null,
   "id": "781568b5",
   "metadata": {},
   "outputs": [],
   "source": [
    "plt.imshow(np.split(arr,2,axis=0)[0])"
   ]
  },
  {
   "cell_type": "code",
   "execution_count": null,
   "id": "b2a5d919",
   "metadata": {},
   "outputs": [],
   "source": [
    "plt.imshow(np.split(arr,3,axis = 2)[2])"
   ]
  },
  {
   "cell_type": "code",
   "execution_count": null,
   "id": "dcb2cfdc",
   "metadata": {},
   "outputs": [],
   "source": [
    "arr.shape\n",
    "# 936//3\n"
   ]
  },
  {
   "cell_type": "code",
   "execution_count": null,
   "id": "9fd43a7f",
   "metadata": {},
   "outputs": [],
   "source": [
    "\n",
    "# plt.imshow(arr[:,:333,:])   if not divding through the no. of parts completly than do this\n",
    "# if completly divided than do split\n",
    "plt.imshow(arr[:,:312,:])\n"
   ]
  },
  {
   "cell_type": "code",
   "execution_count": null,
   "id": "eecd9f93",
   "metadata": {},
   "outputs": [],
   "source": [
    "#module....open cv it knows where is the subject here slicing and spliting gets done"
   ]
  },
  {
   "cell_type": "code",
   "execution_count": null,
   "id": "6ebadc0a",
   "metadata": {},
   "outputs": [],
   "source": [
    "plt.imshow(np.split(arr,4,axis = 1)[3])    #last 3 means 3 parts me divide"
   ]
  },
  {
   "cell_type": "code",
   "execution_count": null,
   "id": "ae09a3dd",
   "metadata": {},
   "outputs": [],
   "source": [
    "#where\n",
    "a=np.random.randint(1,500,(4,4))\n",
    "a\n",
    "    "
   ]
  },
  {
   "cell_type": "code",
   "execution_count": null,
   "id": "71ded858",
   "metadata": {},
   "outputs": [],
   "source": [
    "np.where(a>200)     #it shows the index where the condn is true  and also where it's false\n",
    "#np.where(a>200,'high sales','low sales') \n",
    "np.where(a>200,'high sales',a) "
   ]
  },
  {
   "cell_type": "code",
   "execution_count": null,
   "id": "60524e1c",
   "metadata": {},
   "outputs": [],
   "source": [
    "np.clip(a,100,250)     #it will change the data out of range...ex-if <100...100 and 250< then 250 print\n",
    "                        #it can be said as padding means changes acc to lower and upper outliers...removes & replace"
   ]
  },
  {
   "cell_type": "markdown",
   "id": "a112dfce",
   "metadata": {},
   "source": [
    "Broadcasting\n",
    "# it streches the arrays shape & dimension  to do element wise operation"
   ]
  },
  {
   "cell_type": "code",
   "execution_count": null,
   "id": "48bae5f3",
   "metadata": {},
   "outputs": [],
   "source": [
    "a=np.random.randint(1,10,7)\n",
    "b=np.random.randint(1,10,(7,7))\n",
    "\n",
    "print(a)\n",
    "print('................\\n\\n')\n",
    "print(b)"
   ]
  },
  {
   "cell_type": "code",
   "execution_count": null,
   "id": "66039ee1",
   "metadata": {},
   "outputs": [],
   "source": [
    "# a+b    could not be broadcast together with shapes (7,) (2,2)...shape is row*col\n",
    "#first checks shape then dimension\n",
    "a+b"
   ]
  },
  {
   "cell_type": "code",
   "execution_count": null,
   "id": "93a372bc",
   "metadata": {},
   "outputs": [],
   "source": [
    "a = np.random.randint(1,10,(7,1))\n",
    "b = np.random.randint(1,10,(5,7))\n",
    "\n",
    "print(a)\n",
    "print('-------\\n\\n')\n",
    "print(b)"
   ]
  },
  {
   "cell_type": "code",
   "execution_count": null,
   "id": "68ada97e",
   "metadata": {},
   "outputs": [],
   "source": [
    "a*b   #if not broadcasting ..then error"
   ]
  },
  {
   "cell_type": "code",
   "execution_count": null,
   "id": "caf607a9",
   "metadata": {},
   "outputs": [],
   "source": [
    "a = np.random.randint(1,10,(1,1))\n",
    "b = np.random.randint(1,10,(5,7))\n",
    "\n",
    "print(a)\n",
    "print('-------\\n\\n')\n",
    "print(b)"
   ]
  },
  {
   "cell_type": "code",
   "execution_count": null,
   "id": "1c45c8c4",
   "metadata": {},
   "outputs": [],
   "source": [
    "a*b"
   ]
  },
  {
   "cell_type": "code",
   "execution_count": null,
   "id": "234d0f07",
   "metadata": {},
   "outputs": [],
   "source": [
    "a = np.random.randint(1,10,(1,1,5))\n",
    "b = np.random.randint(1,10,())\n",
    "\n",
    "print(a)\n",
    "print('-------\\n\\n')\n",
    "print(b)"
   ]
  },
  {
   "cell_type": "markdown",
   "id": "cd7700e9",
   "metadata": {},
   "source": [
    "Pandas"
   ]
  },
  {
   "cell_type": "code",
   "execution_count": null,
   "id": "beee226a",
   "metadata": {},
   "outputs": [],
   "source": [
    "#introduction to python\n",
    "#data= Explore...(Exploratory Data Analysis)\n",
    "#EDA   ...can be performed in excel,sql,powerbi,python"
   ]
  },
  {
   "cell_type": "code",
   "execution_count": null,
   "id": "8b9cb279",
   "metadata": {},
   "outputs": [],
   "source": [
    "#pandas...is panel dataframe means in tabular form "
   ]
  },
  {
   "cell_type": "code",
   "execution_count": 2,
   "id": "363bebb6",
   "metadata": {},
   "outputs": [
    {
     "data": {
      "text/plain": [
       "'2.2.3'"
      ]
     },
     "execution_count": 2,
     "metadata": {},
     "output_type": "execute_result"
    }
   ],
   "source": [
    "import pandas as pd\n",
    "pd.__version__"
   ]
  },
  {
   "cell_type": "code",
   "execution_count": 17,
   "id": "59dfae4a",
   "metadata": {},
   "outputs": [
    {
     "data": {
      "text/html": [
       "<div>\n",
       "<style scoped>\n",
       "    .dataframe tbody tr th:only-of-type {\n",
       "        vertical-align: middle;\n",
       "    }\n",
       "\n",
       "    .dataframe tbody tr th {\n",
       "        vertical-align: top;\n",
       "    }\n",
       "\n",
       "    .dataframe thead th {\n",
       "        text-align: right;\n",
       "    }\n",
       "</style>\n",
       "<table border=\"1\" class=\"dataframe\">\n",
       "  <thead>\n",
       "    <tr style=\"text-align: right;\">\n",
       "      <th></th>\n",
       "      <th>order_id</th>\n",
       "      <th>date</th>\n",
       "      <th>region name</th>\n",
       "      <th>product name</th>\n",
       "      <th>sales</th>\n",
       "      <th>qty</th>\n",
       "      <th>profit</th>\n",
       "    </tr>\n",
       "  </thead>\n",
       "  <tbody>\n",
       "    <tr>\n",
       "      <th>0</th>\n",
       "      <td>1</td>\n",
       "      <td>2025-04-18</td>\n",
       "      <td>west</td>\n",
       "      <td>east</td>\n",
       "      <td>179</td>\n",
       "      <td>8</td>\n",
       "      <td>4016</td>\n",
       "    </tr>\n",
       "    <tr>\n",
       "      <th>1</th>\n",
       "      <td>2</td>\n",
       "      <td>2025-01-05</td>\n",
       "      <td>north</td>\n",
       "      <td>west</td>\n",
       "      <td>989</td>\n",
       "      <td>5</td>\n",
       "      <td>6570</td>\n",
       "    </tr>\n",
       "    <tr>\n",
       "      <th>2</th>\n",
       "      <td>3</td>\n",
       "      <td>2025-07-02</td>\n",
       "      <td>north</td>\n",
       "      <td>east</td>\n",
       "      <td>422</td>\n",
       "      <td>9</td>\n",
       "      <td>4953</td>\n",
       "    </tr>\n",
       "    <tr>\n",
       "      <th>3</th>\n",
       "      <td>4</td>\n",
       "      <td>2025-06-25</td>\n",
       "      <td>west</td>\n",
       "      <td>east</td>\n",
       "      <td>626</td>\n",
       "      <td>3</td>\n",
       "      <td>4877</td>\n",
       "    </tr>\n",
       "    <tr>\n",
       "      <th>4</th>\n",
       "      <td>5</td>\n",
       "      <td>2025-03-06</td>\n",
       "      <td>east</td>\n",
       "      <td>west</td>\n",
       "      <td>741</td>\n",
       "      <td>9</td>\n",
       "      <td>6514</td>\n",
       "    </tr>\n",
       "    <tr>\n",
       "      <th>...</th>\n",
       "      <td>...</td>\n",
       "      <td>...</td>\n",
       "      <td>...</td>\n",
       "      <td>...</td>\n",
       "      <td>...</td>\n",
       "      <td>...</td>\n",
       "      <td>...</td>\n",
       "    </tr>\n",
       "    <tr>\n",
       "      <th>995</th>\n",
       "      <td>996</td>\n",
       "      <td>2025-04-18</td>\n",
       "      <td>west</td>\n",
       "      <td>west</td>\n",
       "      <td>377</td>\n",
       "      <td>7</td>\n",
       "      <td>-6774</td>\n",
       "    </tr>\n",
       "    <tr>\n",
       "      <th>996</th>\n",
       "      <td>997</td>\n",
       "      <td>2025-01-07</td>\n",
       "      <td>south</td>\n",
       "      <td>north</td>\n",
       "      <td>467</td>\n",
       "      <td>2</td>\n",
       "      <td>5274</td>\n",
       "    </tr>\n",
       "    <tr>\n",
       "      <th>997</th>\n",
       "      <td>998</td>\n",
       "      <td>2025-02-14</td>\n",
       "      <td>west</td>\n",
       "      <td>west</td>\n",
       "      <td>235</td>\n",
       "      <td>2</td>\n",
       "      <td>-8677</td>\n",
       "    </tr>\n",
       "    <tr>\n",
       "      <th>998</th>\n",
       "      <td>999</td>\n",
       "      <td>2025-06-22</td>\n",
       "      <td>east</td>\n",
       "      <td>east</td>\n",
       "      <td>183</td>\n",
       "      <td>3</td>\n",
       "      <td>6138</td>\n",
       "    </tr>\n",
       "    <tr>\n",
       "      <th>999</th>\n",
       "      <td>1000</td>\n",
       "      <td>2025-02-24</td>\n",
       "      <td>west</td>\n",
       "      <td>south</td>\n",
       "      <td>747</td>\n",
       "      <td>7</td>\n",
       "      <td>-9196</td>\n",
       "    </tr>\n",
       "  </tbody>\n",
       "</table>\n",
       "<p>1000 rows × 7 columns</p>\n",
       "</div>"
      ],
      "text/plain": [
       "     order_id       date region name product name  sales  qty  profit\n",
       "0           1 2025-04-18        west         east    179    8    4016\n",
       "1           2 2025-01-05       north         west    989    5    6570\n",
       "2           3 2025-07-02       north         east    422    9    4953\n",
       "3           4 2025-06-25        west         east    626    3    4877\n",
       "4           5 2025-03-06        east         west    741    9    6514\n",
       "..        ...        ...         ...          ...    ...  ...     ...\n",
       "995       996 2025-04-18        west         west    377    7   -6774\n",
       "996       997 2025-01-07       south        north    467    2    5274\n",
       "997       998 2025-02-14        west         west    235    2   -8677\n",
       "998       999 2025-06-22        east         east    183    3    6138\n",
       "999      1000 2025-02-24        west        south    747    7   -9196\n",
       "\n",
       "[1000 rows x 7 columns]"
      ]
     },
     "execution_count": 17,
     "metadata": {},
     "output_type": "execute_result"
    }
   ],
   "source": [
    "import numpy as np\n",
    "import random\n",
    "\n",
    "products=['chair','table','charger','phone','laptop']\n",
    "region=['east','west','north','south']\n",
    "all_date=pd.date_range('01-01-2025','23-07-2025')\n",
    "\n",
    "data={'order_id':range(1,1001),\n",
    "      'date':random.choices(all_date,k=1000),\n",
    "      'region name':random.choices(region,k=1000),\n",
    "      'product name':random.choices(region,k=1000),\n",
    "      'sales':np.random.randint(100,1000,1000),\n",
    "      'qty':np.random.randint(1,10,1000),\n",
    "      'profit':np.random.randint(-10000,10000,1000)}\n",
    "table=pd.DataFrame(data)\n",
    "table"
   ]
  },
  {
   "cell_type": "code",
   "execution_count": 18,
   "id": "2ea81b9c",
   "metadata": {},
   "outputs": [
    {
     "data": {
      "text/html": [
       "<div>\n",
       "<style scoped>\n",
       "    .dataframe tbody tr th:only-of-type {\n",
       "        vertical-align: middle;\n",
       "    }\n",
       "\n",
       "    .dataframe tbody tr th {\n",
       "        vertical-align: top;\n",
       "    }\n",
       "\n",
       "    .dataframe thead th {\n",
       "        text-align: right;\n",
       "    }\n",
       "</style>\n",
       "<table border=\"1\" class=\"dataframe\">\n",
       "  <thead>\n",
       "    <tr style=\"text-align: right;\">\n",
       "      <th></th>\n",
       "      <th>order_id</th>\n",
       "      <th>date</th>\n",
       "      <th>region name</th>\n",
       "      <th>product name</th>\n",
       "      <th>sales</th>\n",
       "      <th>qty</th>\n",
       "      <th>profit</th>\n",
       "    </tr>\n",
       "  </thead>\n",
       "  <tbody>\n",
       "    <tr>\n",
       "      <th>0</th>\n",
       "      <td>1</td>\n",
       "      <td>2025-04-18</td>\n",
       "      <td>west</td>\n",
       "      <td>east</td>\n",
       "      <td>179</td>\n",
       "      <td>8</td>\n",
       "      <td>4016</td>\n",
       "    </tr>\n",
       "    <tr>\n",
       "      <th>1</th>\n",
       "      <td>2</td>\n",
       "      <td>2025-01-05</td>\n",
       "      <td>north</td>\n",
       "      <td>west</td>\n",
       "      <td>989</td>\n",
       "      <td>5</td>\n",
       "      <td>6570</td>\n",
       "    </tr>\n",
       "    <tr>\n",
       "      <th>2</th>\n",
       "      <td>3</td>\n",
       "      <td>2025-07-02</td>\n",
       "      <td>north</td>\n",
       "      <td>east</td>\n",
       "      <td>422</td>\n",
       "      <td>9</td>\n",
       "      <td>4953</td>\n",
       "    </tr>\n",
       "    <tr>\n",
       "      <th>3</th>\n",
       "      <td>4</td>\n",
       "      <td>2025-06-25</td>\n",
       "      <td>west</td>\n",
       "      <td>east</td>\n",
       "      <td>626</td>\n",
       "      <td>3</td>\n",
       "      <td>4877</td>\n",
       "    </tr>\n",
       "    <tr>\n",
       "      <th>4</th>\n",
       "      <td>5</td>\n",
       "      <td>2025-03-06</td>\n",
       "      <td>east</td>\n",
       "      <td>west</td>\n",
       "      <td>741</td>\n",
       "      <td>9</td>\n",
       "      <td>6514</td>\n",
       "    </tr>\n",
       "  </tbody>\n",
       "</table>\n",
       "</div>"
      ],
      "text/plain": [
       "   order_id       date region name product name  sales  qty  profit\n",
       "0         1 2025-04-18        west         east    179    8    4016\n",
       "1         2 2025-01-05       north         west    989    5    6570\n",
       "2         3 2025-07-02       north         east    422    9    4953\n",
       "3         4 2025-06-25        west         east    626    3    4877\n",
       "4         5 2025-03-06        east         west    741    9    6514"
      ]
     },
     "execution_count": 18,
     "metadata": {},
     "output_type": "execute_result"
    }
   ],
   "source": [
    "# date column\n",
    "# top data  # bydefault = 5\n",
    "table.head()"
   ]
  },
  {
   "cell_type": "code",
   "execution_count": null,
   "id": "8dca40dd",
   "metadata": {},
   "outputs": [
    {
     "name": "stdout",
     "output_type": "stream",
     "text": [
      "<class 'pandas.core.frame.DataFrame'>\n",
      "RangeIndex: 1000 entries, 0 to 999\n",
      "Data columns (total 7 columns):\n",
      " #   Column        Non-Null Count  Dtype         \n",
      "---  ------        --------------  -----         \n",
      " 0   order_id      1000 non-null   int64         \n",
      " 1   date          1000 non-null   datetime64[ns]\n",
      " 2   region name   1000 non-null   object        \n",
      " 3   product name  1000 non-null   object        \n",
      " 4   sales         1000 non-null   int32         \n",
      " 5   qty           1000 non-null   int32         \n",
      " 6   profit        1000 non-null   int32         \n",
      "dtypes: datetime64[ns](1), int32(3), int64(1), object(2)\n",
      "memory usage: 43.1+ KB\n"
     ]
    },
    {
     "data": {
      "text/html": [
       "<div>\n",
       "<style scoped>\n",
       "    .dataframe tbody tr th:only-of-type {\n",
       "        vertical-align: middle;\n",
       "    }\n",
       "\n",
       "    .dataframe tbody tr th {\n",
       "        vertical-align: top;\n",
       "    }\n",
       "\n",
       "    .dataframe thead th {\n",
       "        text-align: right;\n",
       "    }\n",
       "</style>\n",
       "<table border=\"1\" class=\"dataframe\">\n",
       "  <thead>\n",
       "    <tr style=\"text-align: right;\">\n",
       "      <th></th>\n",
       "      <th>order_id</th>\n",
       "      <th>date</th>\n",
       "      <th>region name</th>\n",
       "      <th>product name</th>\n",
       "      <th>sales</th>\n",
       "      <th>qty</th>\n",
       "      <th>profit</th>\n",
       "    </tr>\n",
       "  </thead>\n",
       "  <tbody>\n",
       "    <tr>\n",
       "      <th>400</th>\n",
       "      <td>401</td>\n",
       "      <td>2025-06-30</td>\n",
       "      <td>south</td>\n",
       "      <td>east</td>\n",
       "      <td>233</td>\n",
       "      <td>5</td>\n",
       "      <td>-5258</td>\n",
       "    </tr>\n",
       "  </tbody>\n",
       "</table>\n",
       "</div>"
      ],
      "text/plain": [
       "     order_id       date region name product name  sales  qty  profit\n",
       "400       401 2025-06-30       south         east    233    5   -5258"
      ]
     },
     "execution_count": 21,
     "metadata": {},
     "output_type": "execute_result"
    }
   ],
   "source": [
    "\n",
    "# table.head(10)  ..prints till 10 entries\n",
    "table.info()             # infomation:- about dataset\n",
    "table.sample()          #random 1 row will be printed"
   ]
  },
  {
   "cell_type": "code",
   "execution_count": null,
   "id": "6c17fc15",
   "metadata": {},
   "outputs": [
    {
     "data": {
      "text/plain": [
       "RangeIndex(start=0, stop=1000, step=1)"
      ]
     },
     "execution_count": 23,
     "metadata": {},
     "output_type": "execute_result"
    }
   ],
   "source": [
    "# columns name\n",
    "\n",
    "table.columns          #col and index are attributes so no brackets and while using method should use brackets\n",
    "table.index"
   ]
  },
  {
   "cell_type": "code",
   "execution_count": 24,
   "id": "397a7c32",
   "metadata": {},
   "outputs": [
    {
     "data": {
      "text/plain": [
       "order_id  date   region name  product name  sales  qty    profit\n",
       "False     False  False        False         False  False  False     1000\n",
       "Name: count, dtype: int64"
      ]
     },
     "execution_count": 24,
     "metadata": {},
     "output_type": "execute_result"
    }
   ],
   "source": [
    "#none,null,nan,isnull...same\n",
    "table.isnull().value_counts()\n"
   ]
  },
  {
   "cell_type": "code",
   "execution_count": null,
   "id": "acf9d224",
   "metadata": {},
   "outputs": [],
   "source": []
  }
 ],
 "metadata": {
  "kernelspec": {
   "display_name": "base",
   "language": "python",
   "name": "python3"
  },
  "language_info": {
   "codemirror_mode": {
    "name": "ipython",
    "version": 3
   },
   "file_extension": ".py",
   "mimetype": "text/x-python",
   "name": "python",
   "nbconvert_exporter": "python",
   "pygments_lexer": "ipython3",
   "version": "3.13.5"
  }
 },
 "nbformat": 4,
 "nbformat_minor": 5
}
