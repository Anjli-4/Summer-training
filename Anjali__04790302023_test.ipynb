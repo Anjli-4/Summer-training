{
 "cells": [
  {
   "cell_type": "code",
   "execution_count": null,
   "id": "0f2d5f22",
   "metadata": {},
   "outputs": [],
   "source": [
    "# Q1. List and tuples are dataypes in python where in list we use square brackets and open brackets in tuple.\n",
    "# list is mutable & tuple is immutable\n",
    " #  L1=[2,3,4,5]\n",
    "#t1=(2,4,5,6)...or we can say the type of list is tuple"
   ]
  },
  {
   "cell_type": "code",
   "execution_count": null,
   "id": "2cc957cf",
   "metadata": {},
   "outputs": [],
   "source": [
    "# Q2. in python we use input() function to enter user-defined values .It returns string datatype.\n",
    "#to make it integer type  we can write it as:-    a=int(input(\"enter value of a:\"))"
   ]
  },
  {
   "cell_type": "code",
   "execution_count": null,
   "id": "8b7fc0ee",
   "metadata": {},
   "outputs": [],
   "source": [
    "# Q3. dictionary is a type of datatype in python where we store data in form of key and values.\n",
    "#syntax:-{key:value}\n",
    "#ex-{'name':'xyz',roll_no:123,'class':'abc'}"
   ]
  },
  {
   "cell_type": "code",
   "execution_count": null,
   "id": "750993a1",
   "metadata": {},
   "outputs": [
    {
     "name": "stdout",
     "output_type": "stream",
     "text": [
      "1\n",
      "2\n",
      "3\n",
      "4\n",
      "5\n"
     ]
    }
   ],
   "source": [
    "# Q4. for loop -it is a conditonal loop.\n",
    "# in python is used to run the codition through iterations between a given range and after that range it stops\n",
    "# for ex:-  \n",
    "\n",
    "for i in range(1,6):\n",
    "    print(i) \n",
    "\n",
    "    "
   ]
  },
  {
   "cell_type": "code",
   "execution_count": null,
   "id": "b2e90cbc",
   "metadata": {},
   "outputs": [],
   "source": [
    "#Q5. exception handling in python used to handle exceptions that occurs in the code\n",
    "# here we use try block and except where try block catches the error and throws the error to except block\n",
    "#finally block is used to run the code if there is no error in try and except block"
   ]
  },
  {
   "cell_type": "code",
   "execution_count": 8,
   "id": "4d1c7b6d",
   "metadata": {},
   "outputs": [
    {
     "name": "stdout",
     "output_type": "stream",
     "text": [
      "it is  divisible by 2\n"
     ]
    }
   ],
   "source": [
    "try:\n",
    "    a=8/2\n",
    "except:\n",
    "    print('it is not divisible by 2')\n",
    "finally:\n",
    "    print('it is  divisible by 2')\n",
    "\n"
   ]
  },
  {
   "cell_type": "code",
   "execution_count": null,
   "id": "8df60a9e",
   "metadata": {},
   "outputs": [],
   "source": [
    "#Q.6 modules in python can be said as file . As modules contain function,variables,classes which we can use it directly in our code by importing it.\n",
    "#import math - from importing the math module we can use any function of this module and\n",
    "#  from math import sqrt  we can only perform sqrt function in our program"
   ]
  },
  {
   "cell_type": "code",
   "execution_count": 9,
   "id": "2e03d45b",
   "metadata": {},
   "outputs": [
    {
     "data": {
      "text/plain": [
       "2.321928094887362"
      ]
     },
     "execution_count": 9,
     "metadata": {},
     "output_type": "execute_result"
    }
   ],
   "source": [
    "import math\n",
    "a=5\n",
    "math.log2(a)"
   ]
  },
  {
   "cell_type": "code",
   "execution_count": 6,
   "id": "00259275",
   "metadata": {},
   "outputs": [
    {
     "data": {
      "text/plain": [
       "3.4641016151377544"
      ]
     },
     "execution_count": 6,
     "metadata": {},
     "output_type": "execute_result"
    }
   ],
   "source": [
    "from math import sqrt\n",
    "a=12\n",
    "\n",
    "\n",
    "sqrt(a)"
   ]
  },
  {
   "cell_type": "code",
   "execution_count": null,
   "id": "8b9cc2a8",
   "metadata": {},
   "outputs": [],
   "source": [
    "#Q7. Object-oriented programming is an object oriented language which contains objects and classes.\n",
    "# In python we use oops for encapsulation,inheritance,absraction and polymorphism\n",
    "# classes - it calls  constructor\n",
    "# objects are instance of a class"
   ]
  },
  {
   "cell_type": "code",
   "execution_count": 5,
   "id": "5f78b84f",
   "metadata": {},
   "outputs": [
    {
     "name": "stdout",
     "output_type": "stream",
     "text": [
      "speed is 100 km/hr\n"
     ]
    }
   ],
   "source": [
    "class Car:\n",
    "    def speed(self):\n",
    "        print('speed is 100 km/hr')\n",
    "\n",
    "a=Car()\n",
    "a.speed()\n",
    "         "
   ]
  },
  {
   "cell_type": "code",
   "execution_count": 8,
   "id": "335b1e4a",
   "metadata": {},
   "outputs": [],
   "source": [
    "# Q8.\n",
    "result = []\n",
    "for x in range(10):\n",
    " if x % 2 == 0:\n",
    "  result.append(x * 2)\n",
    "  \n"
   ]
  },
  {
   "cell_type": "code",
   "execution_count": null,
   "id": "57ae37d3",
   "metadata": {},
   "outputs": [],
   "source": [
    "#Q9.\n",
    "def calculate_area():\n",
    "    r=int(input('enter radius:'))\n",
    "    Area = 3.14 ** r**2    \n",
    "    print(Area)\n",
    "\n",
    "calculate_area()\n",
    "\n",
    "\n"
   ]
  },
  {
   "cell_type": "code",
   "execution_count": null,
   "id": "5e5a6729",
   "metadata": {},
   "outputs": [],
   "source": [
    "# Q.10\n",
    "name=input(\"enter your name:\")\n",
    "age=input(\"enter your age:\")\n",
    "a={f\"Hello [name], you are [age] years old!\"}"
   ]
  },
  {
   "cell_type": "code",
   "execution_count": 22,
   "id": "2cf1684f",
   "metadata": {},
   "outputs": [
    {
     "name": "stdout",
     "output_type": "stream",
     "text": [
      "0 orange\n",
      "1 apple\n",
      "2 mango\n",
      "3 kiwi\n",
      "4 banana\n"
     ]
    }
   ],
   "source": [
    "# Q.11\n",
    "fruit=['orange','apple','mango','kiwi','banana']\n",
    "for l,v in enumerate(fruit):\n",
    "    print(l,v)\n"
   ]
  },
  {
   "cell_type": "code",
   "execution_count": null,
   "id": "f22e3670",
   "metadata": {},
   "outputs": [],
   "source": [
    "# Q12.\n",
    "def grade_calculator(num):\n",
    "    if 90<num<100:\n",
    "        print(\"A\")\n",
    "    elif 80<num<89:\n",
    "        print(\"B\")\n",
    "    elif 70<num<79:\n",
    "        print(\"C\")\n",
    "    elif 60<num<69:\n",
    "        print(\"D\")\n",
    "    else :\n",
    "        print(\"f\")\n",
    "                                                     \n"
   ]
  },
  {
   "cell_type": "code",
   "execution_count": 5,
   "id": "65057710",
   "metadata": {},
   "outputs": [
    {
     "name": "stdout",
     "output_type": "stream",
     "text": [
      "D\n"
     ]
    }
   ],
   "source": [
    "grade_calculator(65)"
   ]
  },
  {
   "cell_type": "code",
   "execution_count": null,
   "id": "1f9e0358",
   "metadata": {},
   "outputs": [],
   "source": [
    "# class BankAccount:\n",
    "#     def __init__(self)\n"
   ]
  }
 ],
 "metadata": {
  "kernelspec": {
   "display_name": "base",
   "language": "python",
   "name": "python3"
  },
  "language_info": {
   "codemirror_mode": {
    "name": "ipython",
    "version": 3
   },
   "file_extension": ".py",
   "mimetype": "text/x-python",
   "name": "python",
   "nbconvert_exporter": "python",
   "pygments_lexer": "ipython3",
   "version": "3.13.5"
  }
 },
 "nbformat": 4,
 "nbformat_minor": 5
}
